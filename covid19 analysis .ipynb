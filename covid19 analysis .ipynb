{
 "cells": [
  {
   "cell_type": "markdown",
   "metadata": {},
   "source": [
    "# covid19 Data state wise"
   ]
  },
  {
   "cell_type": "code",
   "execution_count": 1,
   "metadata": {},
   "outputs": [
    {
     "data": {
      "text/html": [
       "        <script type=\"text/javascript\">\n",
       "        window.PlotlyConfig = {MathJaxConfig: 'local'};\n",
       "        if (window.MathJax) {MathJax.Hub.Config({SVG: {font: \"STIX-Web\"}});}\n",
       "        if (typeof require !== 'undefined') {\n",
       "        require.undef(\"plotly\");\n",
       "        requirejs.config({\n",
       "            paths: {\n",
       "                'plotly': ['https://cdn.plot.ly/plotly-latest.min']\n",
       "            }\n",
       "        });\n",
       "        require(['plotly'], function(Plotly) {\n",
       "            window._Plotly = Plotly;\n",
       "        });\n",
       "        }\n",
       "        </script>\n",
       "        "
      ]
     },
     "metadata": {},
     "output_type": "display_data"
    }
   ],
   "source": [
    "#importing the necessary libraries\n",
    "import pandas as pd\n",
    "import numpy as np\n",
    "import matplotlib.pyplot as plt\n",
    "import matplotlib.dates as mdates\n",
    "import matplotlib as mpl\n",
    "import seaborn as sns\n",
    "import cufflinks as cf\n",
    "cf.go_offline()\n",
    "import warnings\n",
    "warnings.filterwarnings(\"ignore\")\n",
    "%matplotlib inline"
   ]
  },
  {
   "cell_type": "code",
   "execution_count": 2,
   "metadata": {},
   "outputs": [
    {
     "data": {
      "text/html": [
       "<div>\n",
       "<style scoped>\n",
       "    .dataframe tbody tr th:only-of-type {\n",
       "        vertical-align: middle;\n",
       "    }\n",
       "\n",
       "    .dataframe tbody tr th {\n",
       "        vertical-align: top;\n",
       "    }\n",
       "\n",
       "    .dataframe thead th {\n",
       "        text-align: right;\n",
       "    }\n",
       "</style>\n",
       "<table border=\"1\" class=\"dataframe\">\n",
       "  <thead>\n",
       "    <tr style=\"text-align: right;\">\n",
       "      <th></th>\n",
       "      <th>Date</th>\n",
       "      <th>Status</th>\n",
       "      <th>TT</th>\n",
       "      <th>AN</th>\n",
       "      <th>AP</th>\n",
       "      <th>AR</th>\n",
       "      <th>AS</th>\n",
       "      <th>BR</th>\n",
       "      <th>CH</th>\n",
       "      <th>CT</th>\n",
       "      <th>...</th>\n",
       "      <th>PB</th>\n",
       "      <th>RJ</th>\n",
       "      <th>SK</th>\n",
       "      <th>TN</th>\n",
       "      <th>TG</th>\n",
       "      <th>TR</th>\n",
       "      <th>UP</th>\n",
       "      <th>UT</th>\n",
       "      <th>WB</th>\n",
       "      <th>UN</th>\n",
       "    </tr>\n",
       "  </thead>\n",
       "  <tbody>\n",
       "    <tr>\n",
       "      <th>0</th>\n",
       "      <td>14-Mar-20</td>\n",
       "      <td>Confirmed</td>\n",
       "      <td>81</td>\n",
       "      <td>0</td>\n",
       "      <td>1</td>\n",
       "      <td>0</td>\n",
       "      <td>0</td>\n",
       "      <td>0</td>\n",
       "      <td>0</td>\n",
       "      <td>0</td>\n",
       "      <td>...</td>\n",
       "      <td>1</td>\n",
       "      <td>3</td>\n",
       "      <td>0</td>\n",
       "      <td>1</td>\n",
       "      <td>1</td>\n",
       "      <td>0</td>\n",
       "      <td>12</td>\n",
       "      <td>0</td>\n",
       "      <td>0</td>\n",
       "      <td>0</td>\n",
       "    </tr>\n",
       "    <tr>\n",
       "      <th>1</th>\n",
       "      <td>14-Mar-20</td>\n",
       "      <td>Recovered</td>\n",
       "      <td>9</td>\n",
       "      <td>0</td>\n",
       "      <td>0</td>\n",
       "      <td>0</td>\n",
       "      <td>0</td>\n",
       "      <td>0</td>\n",
       "      <td>0</td>\n",
       "      <td>0</td>\n",
       "      <td>...</td>\n",
       "      <td>0</td>\n",
       "      <td>1</td>\n",
       "      <td>0</td>\n",
       "      <td>0</td>\n",
       "      <td>0</td>\n",
       "      <td>0</td>\n",
       "      <td>4</td>\n",
       "      <td>0</td>\n",
       "      <td>0</td>\n",
       "      <td>0</td>\n",
       "    </tr>\n",
       "    <tr>\n",
       "      <th>2</th>\n",
       "      <td>14-Mar-20</td>\n",
       "      <td>Deceased</td>\n",
       "      <td>2</td>\n",
       "      <td>0</td>\n",
       "      <td>0</td>\n",
       "      <td>0</td>\n",
       "      <td>0</td>\n",
       "      <td>0</td>\n",
       "      <td>0</td>\n",
       "      <td>0</td>\n",
       "      <td>...</td>\n",
       "      <td>0</td>\n",
       "      <td>0</td>\n",
       "      <td>0</td>\n",
       "      <td>0</td>\n",
       "      <td>0</td>\n",
       "      <td>0</td>\n",
       "      <td>0</td>\n",
       "      <td>0</td>\n",
       "      <td>0</td>\n",
       "      <td>0</td>\n",
       "    </tr>\n",
       "    <tr>\n",
       "      <th>3</th>\n",
       "      <td>15-Mar-20</td>\n",
       "      <td>Confirmed</td>\n",
       "      <td>27</td>\n",
       "      <td>0</td>\n",
       "      <td>0</td>\n",
       "      <td>0</td>\n",
       "      <td>0</td>\n",
       "      <td>0</td>\n",
       "      <td>0</td>\n",
       "      <td>0</td>\n",
       "      <td>...</td>\n",
       "      <td>0</td>\n",
       "      <td>1</td>\n",
       "      <td>0</td>\n",
       "      <td>0</td>\n",
       "      <td>2</td>\n",
       "      <td>0</td>\n",
       "      <td>1</td>\n",
       "      <td>0</td>\n",
       "      <td>0</td>\n",
       "      <td>0</td>\n",
       "    </tr>\n",
       "    <tr>\n",
       "      <th>4</th>\n",
       "      <td>15-Mar-20</td>\n",
       "      <td>Recovered</td>\n",
       "      <td>4</td>\n",
       "      <td>0</td>\n",
       "      <td>0</td>\n",
       "      <td>0</td>\n",
       "      <td>0</td>\n",
       "      <td>0</td>\n",
       "      <td>0</td>\n",
       "      <td>0</td>\n",
       "      <td>...</td>\n",
       "      <td>0</td>\n",
       "      <td>2</td>\n",
       "      <td>0</td>\n",
       "      <td>0</td>\n",
       "      <td>1</td>\n",
       "      <td>0</td>\n",
       "      <td>0</td>\n",
       "      <td>0</td>\n",
       "      <td>0</td>\n",
       "      <td>0</td>\n",
       "    </tr>\n",
       "    <tr>\n",
       "      <th>...</th>\n",
       "      <td>...</td>\n",
       "      <td>...</td>\n",
       "      <td>...</td>\n",
       "      <td>...</td>\n",
       "      <td>...</td>\n",
       "      <td>...</td>\n",
       "      <td>...</td>\n",
       "      <td>...</td>\n",
       "      <td>...</td>\n",
       "      <td>...</td>\n",
       "      <td>...</td>\n",
       "      <td>...</td>\n",
       "      <td>...</td>\n",
       "      <td>...</td>\n",
       "      <td>...</td>\n",
       "      <td>...</td>\n",
       "      <td>...</td>\n",
       "      <td>...</td>\n",
       "      <td>...</td>\n",
       "      <td>...</td>\n",
       "      <td>...</td>\n",
       "    </tr>\n",
       "    <tr>\n",
       "      <th>562</th>\n",
       "      <td>17-Sep-20</td>\n",
       "      <td>Recovered</td>\n",
       "      <td>87778</td>\n",
       "      <td>33</td>\n",
       "      <td>10712</td>\n",
       "      <td>180</td>\n",
       "      <td>2246</td>\n",
       "      <td>1465</td>\n",
       "      <td>379</td>\n",
       "      <td>5226</td>\n",
       "      <td>...</td>\n",
       "      <td>2248</td>\n",
       "      <td>1333</td>\n",
       "      <td>67</td>\n",
       "      <td>5524</td>\n",
       "      <td>2108</td>\n",
       "      <td>521</td>\n",
       "      <td>4715</td>\n",
       "      <td>533</td>\n",
       "      <td>2948</td>\n",
       "      <td>0</td>\n",
       "    </tr>\n",
       "    <tr>\n",
       "      <th>563</th>\n",
       "      <td>17-Sep-20</td>\n",
       "      <td>Deceased</td>\n",
       "      <td>1175</td>\n",
       "      <td>0</td>\n",
       "      <td>72</td>\n",
       "      <td>0</td>\n",
       "      <td>17</td>\n",
       "      <td>7</td>\n",
       "      <td>5</td>\n",
       "      <td>17</td>\n",
       "      <td>...</td>\n",
       "      <td>54</td>\n",
       "      <td>14</td>\n",
       "      <td>4</td>\n",
       "      <td>59</td>\n",
       "      <td>9</td>\n",
       "      <td>5</td>\n",
       "      <td>81</td>\n",
       "      <td>13</td>\n",
       "      <td>60</td>\n",
       "      <td>0</td>\n",
       "    </tr>\n",
       "    <tr>\n",
       "      <th>564</th>\n",
       "      <td>18-Sep-20</td>\n",
       "      <td>Confirmed</td>\n",
       "      <td>84410</td>\n",
       "      <td>0</td>\n",
       "      <td>8096</td>\n",
       "      <td>154</td>\n",
       "      <td>0</td>\n",
       "      <td>1147</td>\n",
       "      <td>260</td>\n",
       "      <td>3842</td>\n",
       "      <td>...</td>\n",
       "      <td>2774</td>\n",
       "      <td>1817</td>\n",
       "      <td>29</td>\n",
       "      <td>5488</td>\n",
       "      <td>2043</td>\n",
       "      <td>273</td>\n",
       "      <td>6494</td>\n",
       "      <td>0</td>\n",
       "      <td>3192</td>\n",
       "      <td>0</td>\n",
       "    </tr>\n",
       "    <tr>\n",
       "      <th>565</th>\n",
       "      <td>18-Sep-20</td>\n",
       "      <td>Recovered</td>\n",
       "      <td>90018</td>\n",
       "      <td>0</td>\n",
       "      <td>11803</td>\n",
       "      <td>139</td>\n",
       "      <td>2074</td>\n",
       "      <td>1678</td>\n",
       "      <td>353</td>\n",
       "      <td>3281</td>\n",
       "      <td>...</td>\n",
       "      <td>2640</td>\n",
       "      <td>1580</td>\n",
       "      <td>68</td>\n",
       "      <td>5525</td>\n",
       "      <td>1802</td>\n",
       "      <td>603</td>\n",
       "      <td>6806</td>\n",
       "      <td>0</td>\n",
       "      <td>2960</td>\n",
       "      <td>0</td>\n",
       "    </tr>\n",
       "    <tr>\n",
       "      <th>566</th>\n",
       "      <td>18-Sep-20</td>\n",
       "      <td>Deceased</td>\n",
       "      <td>1163</td>\n",
       "      <td>0</td>\n",
       "      <td>67</td>\n",
       "      <td>0</td>\n",
       "      <td>0</td>\n",
       "      <td>4</td>\n",
       "      <td>4</td>\n",
       "      <td>17</td>\n",
       "      <td>...</td>\n",
       "      <td>60</td>\n",
       "      <td>15</td>\n",
       "      <td>3</td>\n",
       "      <td>67</td>\n",
       "      <td>11</td>\n",
       "      <td>6</td>\n",
       "      <td>98</td>\n",
       "      <td>0</td>\n",
       "      <td>59</td>\n",
       "      <td>0</td>\n",
       "    </tr>\n",
       "  </tbody>\n",
       "</table>\n",
       "<p>567 rows × 41 columns</p>\n",
       "</div>"
      ],
      "text/plain": [
       "          Date     Status     TT  AN     AP   AR    AS    BR   CH    CT  ...  \\\n",
       "0    14-Mar-20  Confirmed     81   0      1    0     0     0    0     0  ...   \n",
       "1    14-Mar-20  Recovered      9   0      0    0     0     0    0     0  ...   \n",
       "2    14-Mar-20   Deceased      2   0      0    0     0     0    0     0  ...   \n",
       "3    15-Mar-20  Confirmed     27   0      0    0     0     0    0     0  ...   \n",
       "4    15-Mar-20  Recovered      4   0      0    0     0     0    0     0  ...   \n",
       "..         ...        ...    ...  ..    ...  ...   ...   ...  ...   ...  ...   \n",
       "562  17-Sep-20  Recovered  87778  33  10712  180  2246  1465  379  5226  ...   \n",
       "563  17-Sep-20   Deceased   1175   0     72    0    17     7    5    17  ...   \n",
       "564  18-Sep-20  Confirmed  84410   0   8096  154     0  1147  260  3842  ...   \n",
       "565  18-Sep-20  Recovered  90018   0  11803  139  2074  1678  353  3281  ...   \n",
       "566  18-Sep-20   Deceased   1163   0     67    0     0     4    4    17  ...   \n",
       "\n",
       "       PB    RJ  SK    TN    TG   TR    UP   UT    WB  UN  \n",
       "0       1     3   0     1     1    0    12    0     0   0  \n",
       "1       0     1   0     0     0    0     4    0     0   0  \n",
       "2       0     0   0     0     0    0     0    0     0   0  \n",
       "3       0     1   0     0     2    0     1    0     0   0  \n",
       "4       0     2   0     0     1    0     0    0     0   0  \n",
       "..    ...   ...  ..   ...   ...  ...   ...  ...   ...  ..  \n",
       "562  2248  1333  67  5524  2108  521  4715  533  2948   0  \n",
       "563    54    14   4    59     9    5    81   13    60   0  \n",
       "564  2774  1817  29  5488  2043  273  6494    0  3192   0  \n",
       "565  2640  1580  68  5525  1802  603  6806    0  2960   0  \n",
       "566    60    15   3    67    11    6    98    0    59   0  \n",
       "\n",
       "[567 rows x 41 columns]"
      ]
     },
     "execution_count": 2,
     "metadata": {},
     "output_type": "execute_result"
    }
   ],
   "source": [
    "df = pd.read_csv(\"state_wise_daily.csv\")\n",
    "df"
   ]
  },
  {
   "cell_type": "code",
   "execution_count": 3,
   "metadata": {},
   "outputs": [
    {
     "data": {
      "text/html": [
       "<div>\n",
       "<style scoped>\n",
       "    .dataframe tbody tr th:only-of-type {\n",
       "        vertical-align: middle;\n",
       "    }\n",
       "\n",
       "    .dataframe tbody tr th {\n",
       "        vertical-align: top;\n",
       "    }\n",
       "\n",
       "    .dataframe thead th {\n",
       "        text-align: right;\n",
       "    }\n",
       "</style>\n",
       "<table border=\"1\" class=\"dataframe\">\n",
       "  <thead>\n",
       "    <tr style=\"text-align: right;\">\n",
       "      <th></th>\n",
       "      <th>Date</th>\n",
       "      <th>Status</th>\n",
       "      <th>TT</th>\n",
       "      <th>AN</th>\n",
       "      <th>AP</th>\n",
       "      <th>AR</th>\n",
       "      <th>AS</th>\n",
       "      <th>BR</th>\n",
       "      <th>CH</th>\n",
       "      <th>CT</th>\n",
       "      <th>...</th>\n",
       "      <th>PB</th>\n",
       "      <th>RJ</th>\n",
       "      <th>SK</th>\n",
       "      <th>TN</th>\n",
       "      <th>TG</th>\n",
       "      <th>TR</th>\n",
       "      <th>UP</th>\n",
       "      <th>UT</th>\n",
       "      <th>WB</th>\n",
       "      <th>UN</th>\n",
       "    </tr>\n",
       "  </thead>\n",
       "  <tbody>\n",
       "    <tr>\n",
       "      <th>0</th>\n",
       "      <td>14-Mar-20</td>\n",
       "      <td>Confirmed</td>\n",
       "      <td>81</td>\n",
       "      <td>0</td>\n",
       "      <td>1</td>\n",
       "      <td>0</td>\n",
       "      <td>0</td>\n",
       "      <td>0</td>\n",
       "      <td>0</td>\n",
       "      <td>0</td>\n",
       "      <td>...</td>\n",
       "      <td>1</td>\n",
       "      <td>3</td>\n",
       "      <td>0</td>\n",
       "      <td>1</td>\n",
       "      <td>1</td>\n",
       "      <td>0</td>\n",
       "      <td>12</td>\n",
       "      <td>0</td>\n",
       "      <td>0</td>\n",
       "      <td>0</td>\n",
       "    </tr>\n",
       "    <tr>\n",
       "      <th>1</th>\n",
       "      <td>14-Mar-20</td>\n",
       "      <td>Recovered</td>\n",
       "      <td>9</td>\n",
       "      <td>0</td>\n",
       "      <td>0</td>\n",
       "      <td>0</td>\n",
       "      <td>0</td>\n",
       "      <td>0</td>\n",
       "      <td>0</td>\n",
       "      <td>0</td>\n",
       "      <td>...</td>\n",
       "      <td>0</td>\n",
       "      <td>1</td>\n",
       "      <td>0</td>\n",
       "      <td>0</td>\n",
       "      <td>0</td>\n",
       "      <td>0</td>\n",
       "      <td>4</td>\n",
       "      <td>0</td>\n",
       "      <td>0</td>\n",
       "      <td>0</td>\n",
       "    </tr>\n",
       "    <tr>\n",
       "      <th>2</th>\n",
       "      <td>14-Mar-20</td>\n",
       "      <td>Deceased</td>\n",
       "      <td>2</td>\n",
       "      <td>0</td>\n",
       "      <td>0</td>\n",
       "      <td>0</td>\n",
       "      <td>0</td>\n",
       "      <td>0</td>\n",
       "      <td>0</td>\n",
       "      <td>0</td>\n",
       "      <td>...</td>\n",
       "      <td>0</td>\n",
       "      <td>0</td>\n",
       "      <td>0</td>\n",
       "      <td>0</td>\n",
       "      <td>0</td>\n",
       "      <td>0</td>\n",
       "      <td>0</td>\n",
       "      <td>0</td>\n",
       "      <td>0</td>\n",
       "      <td>0</td>\n",
       "    </tr>\n",
       "    <tr>\n",
       "      <th>3</th>\n",
       "      <td>15-Mar-20</td>\n",
       "      <td>Confirmed</td>\n",
       "      <td>27</td>\n",
       "      <td>0</td>\n",
       "      <td>0</td>\n",
       "      <td>0</td>\n",
       "      <td>0</td>\n",
       "      <td>0</td>\n",
       "      <td>0</td>\n",
       "      <td>0</td>\n",
       "      <td>...</td>\n",
       "      <td>0</td>\n",
       "      <td>1</td>\n",
       "      <td>0</td>\n",
       "      <td>0</td>\n",
       "      <td>2</td>\n",
       "      <td>0</td>\n",
       "      <td>1</td>\n",
       "      <td>0</td>\n",
       "      <td>0</td>\n",
       "      <td>0</td>\n",
       "    </tr>\n",
       "    <tr>\n",
       "      <th>4</th>\n",
       "      <td>15-Mar-20</td>\n",
       "      <td>Recovered</td>\n",
       "      <td>4</td>\n",
       "      <td>0</td>\n",
       "      <td>0</td>\n",
       "      <td>0</td>\n",
       "      <td>0</td>\n",
       "      <td>0</td>\n",
       "      <td>0</td>\n",
       "      <td>0</td>\n",
       "      <td>...</td>\n",
       "      <td>0</td>\n",
       "      <td>2</td>\n",
       "      <td>0</td>\n",
       "      <td>0</td>\n",
       "      <td>1</td>\n",
       "      <td>0</td>\n",
       "      <td>0</td>\n",
       "      <td>0</td>\n",
       "      <td>0</td>\n",
       "      <td>0</td>\n",
       "    </tr>\n",
       "    <tr>\n",
       "      <th>...</th>\n",
       "      <td>...</td>\n",
       "      <td>...</td>\n",
       "      <td>...</td>\n",
       "      <td>...</td>\n",
       "      <td>...</td>\n",
       "      <td>...</td>\n",
       "      <td>...</td>\n",
       "      <td>...</td>\n",
       "      <td>...</td>\n",
       "      <td>...</td>\n",
       "      <td>...</td>\n",
       "      <td>...</td>\n",
       "      <td>...</td>\n",
       "      <td>...</td>\n",
       "      <td>...</td>\n",
       "      <td>...</td>\n",
       "      <td>...</td>\n",
       "      <td>...</td>\n",
       "      <td>...</td>\n",
       "      <td>...</td>\n",
       "      <td>...</td>\n",
       "    </tr>\n",
       "    <tr>\n",
       "      <th>523</th>\n",
       "      <td>04-Sep-20</td>\n",
       "      <td>Recovered</td>\n",
       "      <td>69625</td>\n",
       "      <td>40</td>\n",
       "      <td>12334</td>\n",
       "      <td>113</td>\n",
       "      <td>2020</td>\n",
       "      <td>1435</td>\n",
       "      <td>222</td>\n",
       "      <td>658</td>\n",
       "      <td>...</td>\n",
       "      <td>1272</td>\n",
       "      <td>679</td>\n",
       "      <td>17</td>\n",
       "      <td>6334</td>\n",
       "      <td>2011</td>\n",
       "      <td>179</td>\n",
       "      <td>5006</td>\n",
       "      <td>502</td>\n",
       "      <td>3305</td>\n",
       "      <td>0</td>\n",
       "    </tr>\n",
       "    <tr>\n",
       "      <th>524</th>\n",
       "      <td>04-Sep-20</td>\n",
       "      <td>Deceased</td>\n",
       "      <td>950</td>\n",
       "      <td>1</td>\n",
       "      <td>76</td>\n",
       "      <td>0</td>\n",
       "      <td>15</td>\n",
       "      <td>13</td>\n",
       "      <td>5</td>\n",
       "      <td>22</td>\n",
       "      <td>...</td>\n",
       "      <td>49</td>\n",
       "      <td>13</td>\n",
       "      <td>0</td>\n",
       "      <td>79</td>\n",
       "      <td>10</td>\n",
       "      <td>3</td>\n",
       "      <td>71</td>\n",
       "      <td>12</td>\n",
       "      <td>58</td>\n",
       "      <td>0</td>\n",
       "    </tr>\n",
       "    <tr>\n",
       "      <th>525</th>\n",
       "      <td>05-Sep-20</td>\n",
       "      <td>Confirmed</td>\n",
       "      <td>90600</td>\n",
       "      <td>35</td>\n",
       "      <td>10825</td>\n",
       "      <td>139</td>\n",
       "      <td>2698</td>\n",
       "      <td>1727</td>\n",
       "      <td>234</td>\n",
       "      <td>2529</td>\n",
       "      <td>...</td>\n",
       "      <td>1514</td>\n",
       "      <td>1566</td>\n",
       "      <td>58</td>\n",
       "      <td>5870</td>\n",
       "      <td>2511</td>\n",
       "      <td>691</td>\n",
       "      <td>6590</td>\n",
       "      <td>950</td>\n",
       "      <td>3042</td>\n",
       "      <td>0</td>\n",
       "    </tr>\n",
       "    <tr>\n",
       "      <th>526</th>\n",
       "      <td>05-Sep-20</td>\n",
       "      <td>Recovered</td>\n",
       "      <td>73161</td>\n",
       "      <td>41</td>\n",
       "      <td>11941</td>\n",
       "      <td>101</td>\n",
       "      <td>2343</td>\n",
       "      <td>1965</td>\n",
       "      <td>185</td>\n",
       "      <td>879</td>\n",
       "      <td>...</td>\n",
       "      <td>1306</td>\n",
       "      <td>1346</td>\n",
       "      <td>26</td>\n",
       "      <td>5859</td>\n",
       "      <td>2579</td>\n",
       "      <td>271</td>\n",
       "      <td>5141</td>\n",
       "      <td>535</td>\n",
       "      <td>3248</td>\n",
       "      <td>0</td>\n",
       "    </tr>\n",
       "    <tr>\n",
       "      <th>527</th>\n",
       "      <td>05-Sep-20</td>\n",
       "      <td>Deceased</td>\n",
       "      <td>916</td>\n",
       "      <td>1</td>\n",
       "      <td>71</td>\n",
       "      <td>0</td>\n",
       "      <td>7</td>\n",
       "      <td>9</td>\n",
       "      <td>1</td>\n",
       "      <td>19</td>\n",
       "      <td>...</td>\n",
       "      <td>69</td>\n",
       "      <td>14</td>\n",
       "      <td>0</td>\n",
       "      <td>64</td>\n",
       "      <td>11</td>\n",
       "      <td>7</td>\n",
       "      <td>81</td>\n",
       "      <td>18</td>\n",
       "      <td>58</td>\n",
       "      <td>0</td>\n",
       "    </tr>\n",
       "  </tbody>\n",
       "</table>\n",
       "<p>528 rows × 41 columns</p>\n",
       "</div>"
      ],
      "text/plain": [
       "          Date     Status     TT  AN     AP   AR    AS    BR   CH    CT  ...  \\\n",
       "0    14-Mar-20  Confirmed     81   0      1    0     0     0    0     0  ...   \n",
       "1    14-Mar-20  Recovered      9   0      0    0     0     0    0     0  ...   \n",
       "2    14-Mar-20   Deceased      2   0      0    0     0     0    0     0  ...   \n",
       "3    15-Mar-20  Confirmed     27   0      0    0     0     0    0     0  ...   \n",
       "4    15-Mar-20  Recovered      4   0      0    0     0     0    0     0  ...   \n",
       "..         ...        ...    ...  ..    ...  ...   ...   ...  ...   ...  ...   \n",
       "523  04-Sep-20  Recovered  69625  40  12334  113  2020  1435  222   658  ...   \n",
       "524  04-Sep-20   Deceased    950   1     76    0    15    13    5    22  ...   \n",
       "525  05-Sep-20  Confirmed  90600  35  10825  139  2698  1727  234  2529  ...   \n",
       "526  05-Sep-20  Recovered  73161  41  11941  101  2343  1965  185   879  ...   \n",
       "527  05-Sep-20   Deceased    916   1     71    0     7     9    1    19  ...   \n",
       "\n",
       "       PB    RJ  SK    TN    TG   TR    UP   UT    WB  UN  \n",
       "0       1     3   0     1     1    0    12    0     0   0  \n",
       "1       0     1   0     0     0    0     4    0     0   0  \n",
       "2       0     0   0     0     0    0     0    0     0   0  \n",
       "3       0     1   0     0     2    0     1    0     0   0  \n",
       "4       0     2   0     0     1    0     0    0     0   0  \n",
       "..    ...   ...  ..   ...   ...  ...   ...  ...   ...  ..  \n",
       "523  1272   679  17  6334  2011  179  5006  502  3305   0  \n",
       "524    49    13   0    79    10    3    71   12    58   0  \n",
       "525  1514  1566  58  5870  2511  691  6590  950  3042   0  \n",
       "526  1306  1346  26  5859  2579  271  5141  535  3248   0  \n",
       "527    69    14   0    64    11    7    81   18    58   0  \n",
       "\n",
       "[528 rows x 41 columns]"
      ]
     },
     "execution_count": 3,
     "metadata": {},
     "output_type": "execute_result"
    }
   ],
   "source": [
    "df=df.iloc[:528] #selecting data from 14-mar tho 5-sep\n",
    "df"
   ]
  },
  {
   "cell_type": "code",
   "execution_count": 4,
   "metadata": {},
   "outputs": [
    {
     "data": {
      "text/html": [
       "<div>\n",
       "<style scoped>\n",
       "    .dataframe tbody tr th:only-of-type {\n",
       "        vertical-align: middle;\n",
       "    }\n",
       "\n",
       "    .dataframe tbody tr th {\n",
       "        vertical-align: top;\n",
       "    }\n",
       "\n",
       "    .dataframe thead th {\n",
       "        text-align: right;\n",
       "    }\n",
       "</style>\n",
       "<table border=\"1\" class=\"dataframe\">\n",
       "  <thead>\n",
       "    <tr style=\"text-align: right;\">\n",
       "      <th></th>\n",
       "      <th>TT</th>\n",
       "    </tr>\n",
       "    <tr>\n",
       "      <th>Status</th>\n",
       "      <th></th>\n",
       "    </tr>\n",
       "  </thead>\n",
       "  <tbody>\n",
       "    <tr>\n",
       "      <th>Confirmed</th>\n",
       "      <td>4110184</td>\n",
       "    </tr>\n",
       "    <tr>\n",
       "      <th>Deceased</th>\n",
       "      <td>63389</td>\n",
       "    </tr>\n",
       "    <tr>\n",
       "      <th>Recovered</th>\n",
       "      <td>3177643</td>\n",
       "    </tr>\n",
       "  </tbody>\n",
       "</table>\n",
       "</div>"
      ],
      "text/plain": [
       "                TT\n",
       "Status            \n",
       "Confirmed  4110184\n",
       "Deceased     63389\n",
       "Recovered  3177643"
      ]
     },
     "execution_count": 4,
     "metadata": {},
     "output_type": "execute_result"
    }
   ],
   "source": [
    "def total_cases():\n",
    "    total=df.groupby(['Status','TT']).size().reset_index().groupby('Status')[['TT']].sum() # total number of cases\n",
    "    return total\n",
    "total_cases()"
   ]
  },
  {
   "cell_type": "code",
   "execution_count": 5,
   "metadata": {},
   "outputs": [
    {
     "data": {
      "text/html": [
       "<div>\n",
       "<style scoped>\n",
       "    .dataframe tbody tr th:only-of-type {\n",
       "        vertical-align: middle;\n",
       "    }\n",
       "\n",
       "    .dataframe tbody tr th {\n",
       "        vertical-align: top;\n",
       "    }\n",
       "\n",
       "    .dataframe thead th {\n",
       "        text-align: right;\n",
       "    }\n",
       "</style>\n",
       "<table border=\"1\" class=\"dataframe\">\n",
       "  <thead>\n",
       "    <tr style=\"text-align: right;\">\n",
       "      <th></th>\n",
       "      <th>DL</th>\n",
       "    </tr>\n",
       "    <tr>\n",
       "      <th>Status</th>\n",
       "      <th></th>\n",
       "    </tr>\n",
       "  </thead>\n",
       "  <tbody>\n",
       "    <tr>\n",
       "      <th>Confirmed</th>\n",
       "      <td>184918</td>\n",
       "    </tr>\n",
       "    <tr>\n",
       "      <th>Deceased</th>\n",
       "      <td>2904</td>\n",
       "    </tr>\n",
       "    <tr>\n",
       "      <th>Recovered</th>\n",
       "      <td>160990</td>\n",
       "    </tr>\n",
       "  </tbody>\n",
       "</table>\n",
       "</div>"
      ],
      "text/plain": [
       "               DL\n",
       "Status           \n",
       "Confirmed  184918\n",
       "Deceased     2904\n",
       "Recovered  160990"
      ]
     },
     "execution_count": 5,
     "metadata": {},
     "output_type": "execute_result"
    }
   ],
   "source": [
    "def total_delhi():   # max cases in delhi\n",
    "    delhi = df.groupby(['Status','DL']).size().reset_index().groupby('Status')[['DL']].sum()\n",
    "    return delhi\n",
    "total_delhi()  "
   ]
  },
  {
   "cell_type": "code",
   "execution_count": 6,
   "metadata": {},
   "outputs": [
    {
     "data": {
      "text/html": [
       "<div>\n",
       "<style scoped>\n",
       "    .dataframe tbody tr th:only-of-type {\n",
       "        vertical-align: middle;\n",
       "    }\n",
       "\n",
       "    .dataframe tbody tr th {\n",
       "        vertical-align: top;\n",
       "    }\n",
       "\n",
       "    .dataframe thead th {\n",
       "        text-align: right;\n",
       "    }\n",
       "</style>\n",
       "<table border=\"1\" class=\"dataframe\">\n",
       "  <thead>\n",
       "    <tr style=\"text-align: right;\">\n",
       "      <th></th>\n",
       "      <th>sum</th>\n",
       "    </tr>\n",
       "    <tr>\n",
       "      <th>Status</th>\n",
       "      <th></th>\n",
       "    </tr>\n",
       "  </thead>\n",
       "  <tbody>\n",
       "    <tr>\n",
       "      <th>Confirmed</th>\n",
       "      <td>1072031</td>\n",
       "    </tr>\n",
       "    <tr>\n",
       "      <th>Deceased</th>\n",
       "      <td>25509</td>\n",
       "    </tr>\n",
       "    <tr>\n",
       "      <th>Recovered</th>\n",
       "      <td>800001</td>\n",
       "    </tr>\n",
       "  </tbody>\n",
       "</table>\n",
       "</div>"
      ],
      "text/plain": [
       "               sum\n",
       "Status            \n",
       "Confirmed  1072031\n",
       "Deceased     25509\n",
       "Recovered   800001"
      ]
     },
     "execution_count": 6,
     "metadata": {},
     "output_type": "execute_result"
    }
   ],
   "source": [
    "# sum of cases in delhi and maharashtra\n",
    "def dl_mh():\n",
    "    df[\"sum\"]= df[\"DL\"]+df[\"MH\"] \n",
    "    df_sum=df[['Status','DL',\"MH\",\"sum\"]]\n",
    "    dl_mh=df_sum.groupby(['Status','sum']).size().reset_index().groupby('Status')[['sum']].sum()\n",
    "    return dl_mh\n",
    "dl_mh()"
   ]
  },
  {
   "cell_type": "code",
   "execution_count": 7,
   "metadata": {},
   "outputs": [],
   "source": [
    "df=df.drop('sum',axis=1)"
   ]
  },
  {
   "cell_type": "code",
   "execution_count": 8,
   "metadata": {},
   "outputs": [
    {
     "data": {
      "text/html": [
       "<div>\n",
       "<style scoped>\n",
       "    .dataframe tbody tr th:only-of-type {\n",
       "        vertical-align: middle;\n",
       "    }\n",
       "\n",
       "    .dataframe tbody tr th {\n",
       "        vertical-align: top;\n",
       "    }\n",
       "\n",
       "    .dataframe thead th {\n",
       "        text-align: right;\n",
       "    }\n",
       "</style>\n",
       "<table border=\"1\" class=\"dataframe\">\n",
       "  <thead>\n",
       "    <tr style=\"text-align: right;\">\n",
       "      <th></th>\n",
       "      <th>Date</th>\n",
       "      <th>TT</th>\n",
       "      <th>AN</th>\n",
       "      <th>AP</th>\n",
       "      <th>AR</th>\n",
       "      <th>AS</th>\n",
       "      <th>BR</th>\n",
       "      <th>CH</th>\n",
       "      <th>CT</th>\n",
       "      <th>DN</th>\n",
       "      <th>...</th>\n",
       "      <th>PB</th>\n",
       "      <th>RJ</th>\n",
       "      <th>SK</th>\n",
       "      <th>TN</th>\n",
       "      <th>TG</th>\n",
       "      <th>TR</th>\n",
       "      <th>UP</th>\n",
       "      <th>UT</th>\n",
       "      <th>WB</th>\n",
       "      <th>UN</th>\n",
       "    </tr>\n",
       "    <tr>\n",
       "      <th>Status</th>\n",
       "      <th></th>\n",
       "      <th></th>\n",
       "      <th></th>\n",
       "      <th></th>\n",
       "      <th></th>\n",
       "      <th></th>\n",
       "      <th></th>\n",
       "      <th></th>\n",
       "      <th></th>\n",
       "      <th></th>\n",
       "      <th></th>\n",
       "      <th></th>\n",
       "      <th></th>\n",
       "      <th></th>\n",
       "      <th></th>\n",
       "      <th></th>\n",
       "      <th></th>\n",
       "      <th></th>\n",
       "      <th></th>\n",
       "      <th></th>\n",
       "      <th></th>\n",
       "    </tr>\n",
       "  </thead>\n",
       "  <tbody>\n",
       "    <tr>\n",
       "      <th>Confirmed</th>\n",
       "      <td>31-May-20</td>\n",
       "      <td>90600</td>\n",
       "      <td>149</td>\n",
       "      <td>10830</td>\n",
       "      <td>214</td>\n",
       "      <td>4593</td>\n",
       "      <td>4071</td>\n",
       "      <td>276</td>\n",
       "      <td>2667</td>\n",
       "      <td>64</td>\n",
       "      <td>...</td>\n",
       "      <td>1746</td>\n",
       "      <td>1570</td>\n",
       "      <td>149</td>\n",
       "      <td>6993</td>\n",
       "      <td>3018</td>\n",
       "      <td>691</td>\n",
       "      <td>6590</td>\n",
       "      <td>950</td>\n",
       "      <td>3274</td>\n",
       "      <td>1043</td>\n",
       "    </tr>\n",
       "    <tr>\n",
       "      <th>Deceased</th>\n",
       "      <td>31-May-20</td>\n",
       "      <td>2004</td>\n",
       "      <td>4</td>\n",
       "      <td>97</td>\n",
       "      <td>2</td>\n",
       "      <td>15</td>\n",
       "      <td>22</td>\n",
       "      <td>7</td>\n",
       "      <td>22</td>\n",
       "      <td>1</td>\n",
       "      <td>...</td>\n",
       "      <td>106</td>\n",
       "      <td>17</td>\n",
       "      <td>1</td>\n",
       "      <td>518</td>\n",
       "      <td>14</td>\n",
       "      <td>10</td>\n",
       "      <td>95</td>\n",
       "      <td>18</td>\n",
       "      <td>74</td>\n",
       "      <td>0</td>\n",
       "    </tr>\n",
       "    <tr>\n",
       "      <th>Recovered</th>\n",
       "      <td>31-May-20</td>\n",
       "      <td>73161</td>\n",
       "      <td>148</td>\n",
       "      <td>12750</td>\n",
       "      <td>150</td>\n",
       "      <td>3259</td>\n",
       "      <td>4140</td>\n",
       "      <td>222</td>\n",
       "      <td>879</td>\n",
       "      <td>72</td>\n",
       "      <td>...</td>\n",
       "      <td>2226</td>\n",
       "      <td>2550</td>\n",
       "      <td>120</td>\n",
       "      <td>7758</td>\n",
       "      <td>2611</td>\n",
       "      <td>410</td>\n",
       "      <td>5863</td>\n",
       "      <td>604</td>\n",
       "      <td>3346</td>\n",
       "      <td>0</td>\n",
       "    </tr>\n",
       "  </tbody>\n",
       "</table>\n",
       "<p>3 rows × 40 columns</p>\n",
       "</div>"
      ],
      "text/plain": [
       "                Date     TT   AN     AP   AR    AS    BR   CH    CT  DN  ...  \\\n",
       "Status                                                                   ...   \n",
       "Confirmed  31-May-20  90600  149  10830  214  4593  4071  276  2667  64  ...   \n",
       "Deceased   31-May-20   2004    4     97    2    15    22    7    22   1  ...   \n",
       "Recovered  31-May-20  73161  148  12750  150  3259  4140  222   879  72  ...   \n",
       "\n",
       "             PB    RJ   SK    TN    TG   TR    UP   UT    WB    UN  \n",
       "Status                                                              \n",
       "Confirmed  1746  1570  149  6993  3018  691  6590  950  3274  1043  \n",
       "Deceased    106    17    1   518    14   10    95   18    74     0  \n",
       "Recovered  2226  2550  120  7758  2611  410  5863  604  3346     0  \n",
       "\n",
       "[3 rows x 40 columns]"
      ]
     },
     "execution_count": 8,
     "metadata": {},
     "output_type": "execute_result"
    }
   ],
   "source": [
    "df.groupby(['Status']).max()"
   ]
  },
  {
   "cell_type": "code",
   "execution_count": 9,
   "metadata": {},
   "outputs": [
    {
     "data": {
      "text/html": [
       "<div>\n",
       "<style scoped>\n",
       "    .dataframe tbody tr th:only-of-type {\n",
       "        vertical-align: middle;\n",
       "    }\n",
       "\n",
       "    .dataframe tbody tr th {\n",
       "        vertical-align: top;\n",
       "    }\n",
       "\n",
       "    .dataframe thead th {\n",
       "        text-align: right;\n",
       "    }\n",
       "</style>\n",
       "<table border=\"1\" class=\"dataframe\">\n",
       "  <thead>\n",
       "    <tr style=\"text-align: right;\">\n",
       "      <th></th>\n",
       "      <th>Date</th>\n",
       "      <th>TT</th>\n",
       "      <th>AN</th>\n",
       "      <th>AP</th>\n",
       "      <th>AR</th>\n",
       "      <th>AS</th>\n",
       "      <th>BR</th>\n",
       "      <th>CH</th>\n",
       "      <th>CT</th>\n",
       "      <th>DN</th>\n",
       "      <th>...</th>\n",
       "      <th>PB</th>\n",
       "      <th>RJ</th>\n",
       "      <th>SK</th>\n",
       "      <th>TN</th>\n",
       "      <th>TG</th>\n",
       "      <th>TR</th>\n",
       "      <th>UP</th>\n",
       "      <th>UT</th>\n",
       "      <th>WB</th>\n",
       "      <th>UN</th>\n",
       "    </tr>\n",
       "    <tr>\n",
       "      <th>Status</th>\n",
       "      <th></th>\n",
       "      <th></th>\n",
       "      <th></th>\n",
       "      <th></th>\n",
       "      <th></th>\n",
       "      <th></th>\n",
       "      <th></th>\n",
       "      <th></th>\n",
       "      <th></th>\n",
       "      <th></th>\n",
       "      <th></th>\n",
       "      <th></th>\n",
       "      <th></th>\n",
       "      <th></th>\n",
       "      <th></th>\n",
       "      <th></th>\n",
       "      <th></th>\n",
       "      <th></th>\n",
       "      <th></th>\n",
       "      <th></th>\n",
       "      <th></th>\n",
       "    </tr>\n",
       "  </thead>\n",
       "  <tbody>\n",
       "    <tr>\n",
       "      <th>Confirmed</th>\n",
       "      <td>01-Apr-20</td>\n",
       "      <td>11</td>\n",
       "      <td>0</td>\n",
       "      <td>0</td>\n",
       "      <td>0</td>\n",
       "      <td>0</td>\n",
       "      <td>0</td>\n",
       "      <td>0</td>\n",
       "      <td>0</td>\n",
       "      <td>0</td>\n",
       "      <td>...</td>\n",
       "      <td>-3</td>\n",
       "      <td>0</td>\n",
       "      <td>0</td>\n",
       "      <td>0</td>\n",
       "      <td>0</td>\n",
       "      <td>-2</td>\n",
       "      <td>0</td>\n",
       "      <td>0</td>\n",
       "      <td>0</td>\n",
       "      <td>-1295</td>\n",
       "    </tr>\n",
       "    <tr>\n",
       "      <th>Deceased</th>\n",
       "      <td>01-Apr-20</td>\n",
       "      <td>0</td>\n",
       "      <td>0</td>\n",
       "      <td>0</td>\n",
       "      <td>0</td>\n",
       "      <td>-1</td>\n",
       "      <td>0</td>\n",
       "      <td>0</td>\n",
       "      <td>0</td>\n",
       "      <td>0</td>\n",
       "      <td>...</td>\n",
       "      <td>-1</td>\n",
       "      <td>0</td>\n",
       "      <td>0</td>\n",
       "      <td>0</td>\n",
       "      <td>0</td>\n",
       "      <td>0</td>\n",
       "      <td>0</td>\n",
       "      <td>0</td>\n",
       "      <td>0</td>\n",
       "      <td>0</td>\n",
       "    </tr>\n",
       "    <tr>\n",
       "      <th>Recovered</th>\n",
       "      <td>01-Apr-20</td>\n",
       "      <td>0</td>\n",
       "      <td>0</td>\n",
       "      <td>0</td>\n",
       "      <td>0</td>\n",
       "      <td>0</td>\n",
       "      <td>0</td>\n",
       "      <td>0</td>\n",
       "      <td>0</td>\n",
       "      <td>0</td>\n",
       "      <td>...</td>\n",
       "      <td>0</td>\n",
       "      <td>0</td>\n",
       "      <td>-1</td>\n",
       "      <td>0</td>\n",
       "      <td>0</td>\n",
       "      <td>0</td>\n",
       "      <td>0</td>\n",
       "      <td>0</td>\n",
       "      <td>-19</td>\n",
       "      <td>0</td>\n",
       "    </tr>\n",
       "  </tbody>\n",
       "</table>\n",
       "<p>3 rows × 40 columns</p>\n",
       "</div>"
      ],
      "text/plain": [
       "                Date  TT  AN  AP  AR  AS  BR  CH  CT  DN  ...  PB  RJ  SK  TN  \\\n",
       "Status                                                    ...                   \n",
       "Confirmed  01-Apr-20  11   0   0   0   0   0   0   0   0  ...  -3   0   0   0   \n",
       "Deceased   01-Apr-20   0   0   0   0  -1   0   0   0   0  ...  -1   0   0   0   \n",
       "Recovered  01-Apr-20   0   0   0   0   0   0   0   0   0  ...   0   0  -1   0   \n",
       "\n",
       "           TG  TR  UP  UT  WB    UN  \n",
       "Status                               \n",
       "Confirmed   0  -2   0   0   0 -1295  \n",
       "Deceased    0   0   0   0   0     0  \n",
       "Recovered   0   0   0   0 -19     0  \n",
       "\n",
       "[3 rows x 40 columns]"
      ]
     },
     "execution_count": 9,
     "metadata": {},
     "output_type": "execute_result"
    }
   ],
   "source": [
    "df.groupby([\"Status\"]).min()"
   ]
  },
  {
   "cell_type": "code",
   "execution_count": 10,
   "metadata": {},
   "outputs": [
    {
     "data": {
      "text/html": [
       "<div>\n",
       "<style scoped>\n",
       "    .dataframe tbody tr th:only-of-type {\n",
       "        vertical-align: middle;\n",
       "    }\n",
       "\n",
       "    .dataframe tbody tr th {\n",
       "        vertical-align: top;\n",
       "    }\n",
       "\n",
       "    .dataframe thead th {\n",
       "        text-align: right;\n",
       "    }\n",
       "</style>\n",
       "<table border=\"1\" class=\"dataframe\">\n",
       "  <thead>\n",
       "    <tr style=\"text-align: right;\">\n",
       "      <th></th>\n",
       "      <th>Date</th>\n",
       "      <th>DL</th>\n",
       "    </tr>\n",
       "    <tr>\n",
       "      <th>Status</th>\n",
       "      <th></th>\n",
       "      <th></th>\n",
       "    </tr>\n",
       "  </thead>\n",
       "  <tbody>\n",
       "    <tr>\n",
       "      <th>Confirmed</th>\n",
       "      <td>31-May-20</td>\n",
       "      <td>3947</td>\n",
       "    </tr>\n",
       "    <tr>\n",
       "      <th>Deceased</th>\n",
       "      <td>31-May-20</td>\n",
       "      <td>437</td>\n",
       "    </tr>\n",
       "    <tr>\n",
       "      <th>Recovered</th>\n",
       "      <td>31-May-20</td>\n",
       "      <td>7725</td>\n",
       "    </tr>\n",
       "  </tbody>\n",
       "</table>\n",
       "</div>"
      ],
      "text/plain": [
       "                Date    DL\n",
       "Status                    \n",
       "Confirmed  31-May-20  3947\n",
       "Deceased   31-May-20   437\n",
       "Recovered  31-May-20  7725"
      ]
     },
     "execution_count": 10,
     "metadata": {},
     "output_type": "execute_result"
    }
   ],
   "source": [
    "delhi_max=df.groupby(['Status','Date','DL']).size().reset_index().groupby('Status')[['Date','DL']].max()\n",
    "delhi_max"
   ]
  },
  {
   "cell_type": "code",
   "execution_count": 11,
   "metadata": {},
   "outputs": [
    {
     "data": {
      "text/html": [
       "<div>\n",
       "<style scoped>\n",
       "    .dataframe tbody tr th:only-of-type {\n",
       "        vertical-align: middle;\n",
       "    }\n",
       "\n",
       "    .dataframe tbody tr th {\n",
       "        vertical-align: top;\n",
       "    }\n",
       "\n",
       "    .dataframe thead th {\n",
       "        text-align: right;\n",
       "    }\n",
       "</style>\n",
       "<table border=\"1\" class=\"dataframe\">\n",
       "  <thead>\n",
       "    <tr style=\"text-align: right;\">\n",
       "      <th></th>\n",
       "      <th>TT</th>\n",
       "      <th>AN</th>\n",
       "      <th>AP</th>\n",
       "      <th>AR</th>\n",
       "      <th>AS</th>\n",
       "      <th>BR</th>\n",
       "      <th>CH</th>\n",
       "      <th>CT</th>\n",
       "      <th>DN</th>\n",
       "      <th>DD</th>\n",
       "      <th>...</th>\n",
       "      <th>PB</th>\n",
       "      <th>RJ</th>\n",
       "      <th>SK</th>\n",
       "      <th>TN</th>\n",
       "      <th>TG</th>\n",
       "      <th>TR</th>\n",
       "      <th>UP</th>\n",
       "      <th>UT</th>\n",
       "      <th>WB</th>\n",
       "      <th>UN</th>\n",
       "    </tr>\n",
       "    <tr>\n",
       "      <th>Status</th>\n",
       "      <th></th>\n",
       "      <th></th>\n",
       "      <th></th>\n",
       "      <th></th>\n",
       "      <th></th>\n",
       "      <th></th>\n",
       "      <th></th>\n",
       "      <th></th>\n",
       "      <th></th>\n",
       "      <th></th>\n",
       "      <th></th>\n",
       "      <th></th>\n",
       "      <th></th>\n",
       "      <th></th>\n",
       "      <th></th>\n",
       "      <th></th>\n",
       "      <th></th>\n",
       "      <th></th>\n",
       "      <th></th>\n",
       "      <th></th>\n",
       "      <th></th>\n",
       "    </tr>\n",
       "  </thead>\n",
       "  <tbody>\n",
       "    <tr>\n",
       "      <th>Confirmed</th>\n",
       "      <td>4110211</td>\n",
       "      <td>3288</td>\n",
       "      <td>487331</td>\n",
       "      <td>4914</td>\n",
       "      <td>123821</td>\n",
       "      <td>145861</td>\n",
       "      <td>5502</td>\n",
       "      <td>43163</td>\n",
       "      <td>2533</td>\n",
       "      <td>0</td>\n",
       "      <td>...</td>\n",
       "      <td>61527</td>\n",
       "      <td>89363</td>\n",
       "      <td>1914</td>\n",
       "      <td>457697</td>\n",
       "      <td>137885</td>\n",
       "      <td>14524</td>\n",
       "      <td>259765</td>\n",
       "      <td>23961</td>\n",
       "      <td>177701</td>\n",
       "      <td>0</td>\n",
       "    </tr>\n",
       "    <tr>\n",
       "      <th>Deceased</th>\n",
       "      <td>70094</td>\n",
       "      <td>50</td>\n",
       "      <td>4347</td>\n",
       "      <td>8</td>\n",
       "      <td>356</td>\n",
       "      <td>750</td>\n",
       "      <td>69</td>\n",
       "      <td>356</td>\n",
       "      <td>2</td>\n",
       "      <td>0</td>\n",
       "      <td>...</td>\n",
       "      <td>1808</td>\n",
       "      <td>1122</td>\n",
       "      <td>5</td>\n",
       "      <td>7751</td>\n",
       "      <td>877</td>\n",
       "      <td>136</td>\n",
       "      <td>3843</td>\n",
       "      <td>330</td>\n",
       "      <td>3510</td>\n",
       "      <td>0</td>\n",
       "    </tr>\n",
       "    <tr>\n",
       "      <th>Recovered</th>\n",
       "      <td>3177666</td>\n",
       "      <td>2895</td>\n",
       "      <td>382104</td>\n",
       "      <td>3381</td>\n",
       "      <td>95061</td>\n",
       "      <td>128376</td>\n",
       "      <td>3290</td>\n",
       "      <td>20487</td>\n",
       "      <td>2230</td>\n",
       "      <td>0</td>\n",
       "      <td>...</td>\n",
       "      <td>43849</td>\n",
       "      <td>73245</td>\n",
       "      <td>1348</td>\n",
       "      <td>398366</td>\n",
       "      <td>104603</td>\n",
       "      <td>8483</td>\n",
       "      <td>195959</td>\n",
       "      <td>15982</td>\n",
       "      <td>150801</td>\n",
       "      <td>0</td>\n",
       "    </tr>\n",
       "  </tbody>\n",
       "</table>\n",
       "<p>3 rows × 39 columns</p>\n",
       "</div>"
      ],
      "text/plain": [
       "                TT    AN      AP    AR      AS      BR    CH     CT    DN  DD  \\\n",
       "Status                                                                          \n",
       "Confirmed  4110211  3288  487331  4914  123821  145861  5502  43163  2533   0   \n",
       "Deceased     70094    50    4347     8     356     750    69    356     2   0   \n",
       "Recovered  3177666  2895  382104  3381   95061  128376  3290  20487  2230   0   \n",
       "\n",
       "           ...     PB     RJ    SK      TN      TG     TR      UP     UT  \\\n",
       "Status     ...                                                             \n",
       "Confirmed  ...  61527  89363  1914  457697  137885  14524  259765  23961   \n",
       "Deceased   ...   1808   1122     5    7751     877    136    3843    330   \n",
       "Recovered  ...  43849  73245  1348  398366  104603   8483  195959  15982   \n",
       "\n",
       "               WB  UN  \n",
       "Status                 \n",
       "Confirmed  177701   0  \n",
       "Deceased     3510   0  \n",
       "Recovered  150801   0  \n",
       "\n",
       "[3 rows x 39 columns]"
      ]
     },
     "execution_count": 11,
     "metadata": {},
     "output_type": "execute_result"
    }
   ],
   "source": [
    "df_active = df.groupby(['Status']).sum()\n",
    "df_active"
   ]
  },
  {
   "cell_type": "code",
   "execution_count": 12,
   "metadata": {},
   "outputs": [],
   "source": [
    "df_cases = df[df['Status'] == 'Confirmed'].copy()\n",
    "df_cases.drop(columns = ['Status'], inplace=True)\n",
    "df_deaths = df[df['Status'] == 'Deceased'].copy()\n",
    "df_deaths.drop(columns = ['Status'], inplace=True)\n",
    "df_recovered = df[df['Status'] == 'Recovered'].copy()\n",
    "df_recovered.drop(columns = ['Status'], inplace=True)"
   ]
  },
  {
   "cell_type": "code",
   "execution_count": 13,
   "metadata": {},
   "outputs": [
    {
     "data": {
      "image/png": "[encoded data removed]",
      "text/plain": [
       "<Figure size 1296x432 with 1 Axes>"
      ]
     },
     "metadata": {
      "needs_background": "light"
     },
     "output_type": "display_data"
    }
   ],
   "source": [
    "plt.figure(figsize = (18,6))\n",
    "plt.plot(df_cases['Date'], df_cases['TT'],'.-', alpha=0.7, color='b', label='Confirmed cases')\n",
    "plt.plot(df_recovered['Date'], df_recovered['TT'],'.-', alpha=0.7, color='g', label='Recovered')\n",
    "plt.plot(df_deaths['Date'], df_deaths['TT'],'.-', alpha=0.7, color='r', label='Deceased')\n",
    "plt.legend()\n",
    "plt.title(\"Cases per day in India\")\n",
    "plt.xticks(ticks=' ')\n",
    "plt.xlabel(f'{df_cases.iloc[0][0]} to {df_cases.iloc[-1][0]}')\n",
    "plt.ylabel('No. of cases');"
   ]
  },
  {
   "cell_type": "code",
   "execution_count": 14,
   "metadata": {},
   "outputs": [
    {
     "data": {
      "image/png": "[encoded data removed]",
      "text/plain": [
       "<Figure size 1512x432 with 3 Axes>"
      ]
     },
     "metadata": {
      "needs_background": "light"
     },
     "output_type": "display_data"
    }
   ],
   "source": [
    "top_3 = sorted(df_cases.sum().values[1:], reverse=True)[1:4]\n",
    "top3_states=[]\n",
    "for i in top_3:\n",
    "    top3_states.append(df_cases.sum()[df_cases.sum() == i].index)\n",
    "\n",
    "\n",
    "fig, ax = plt.subplots(1,3,figsize = (21,6))\n",
    "for i in range(3):\n",
    "    state = top3_states[i].values[0]\n",
    "    ax[i].plot(df_cases['Date'], df_cases[state],'.-', color='b', alpha=0.7)\n",
    "    ax[i].plot(df_deaths['Date'], df_deaths[state],'.-', color='r', alpha=0.7)\n",
    "    ax[i].plot(df_recovered['Date'], df_recovered[state],'.-', color='g', alpha=0.7)\n",
    "    \n",
    "    ax[i].set_title(f\"Cases in {state}\")\n",
    "    ax[i].set_xticks(ticks=' ')\n",
    "    ax[i].set_xlabel(f'{df_cases.iloc[0][0]} to {df_cases.iloc[-1][0]}')\n",
    "    ax[i].set_ylabel('No. of cases');"
   ]
  },
  {
   "cell_type": "code",
   "execution_count": 15,
   "metadata": {},
   "outputs": [
    {
     "data": {
      "image/png": "[encoded data removed]",
      "text/plain": [
       "<Figure size 1152x2160 with 10 Axes>"
      ]
     },
     "metadata": {
      "needs_background": "light"
     },
     "output_type": "display_data"
    }
   ],
   "source": [
    "n = 10\n",
    "\n",
    "st = [\"TT\", \"MH\", \"TN\", \"DL\", \"KA\", \"UP\", \"BR\", \"WB\", \"TG\", \"CH\"]\n",
    "st_name = [\"Daily Count for India\", \"Maharashta\", \"Tamil Nadu\", \"Delhi\", \"Karnataka\", \"Uttar Pradesh\", \"Bihar\", \"West Bengal\", \"Telangana\", \"Chandigarh \"]\n",
    "ax = []\n",
    "fig = plt.figure(figsize = (16,30))\n",
    "gs = fig.add_gridspec(n, 3)\n",
    "\n",
    "for i in range(n):\n",
    "    ax1 = fig.add_subplot(gs[i, :])\n",
    "    ax1.bar(df.Date,df[st[i]],alpha=0.3,color='#007acc')\n",
    "    ax1.plot(df.Date,df[st[i]] , marker=\"o\", color='#007acc')\n",
    "    ax1.xaxis.set_major_locator(mdates.WeekdayLocator())\n",
    "    ax1.xaxis.set_major_formatter(mdates.DateFormatter('%b %d'))\n",
    "    ax1.text(0.02, 0.5,st_name[i], transform = ax1.transAxes, fontsize=25)\n",
    "    ax1.spines['right'].set_visible(False)\n",
    "    ax1.spines['top'].set_visible(False)"
   ]
  },
  {
   "cell_type": "code",
   "execution_count": 16,
   "metadata": {},
   "outputs": [
    {
     "data": {
      "application/vnd.plotly.v1+json": {
       "config": {
        "linkText": "Export to plot.ly",
        "plotlyServerURL": "https://plot.ly",
        "showLink": true
       },
       "data": [
        {
         "histfunc": "count",
         "histnorm": "",
         "marker": {
          "color": "rgba(255, 153, 51, 1.0)",
          "line": {
           "color": "#4D5663",
           "width": 1.3
          }
         },
         "name": "Status",
         "nbinsx": 20,
         "opacity": 0.8,
         "orientation": "v",
         "type": "histogram",
         "x": [
          "Confirmed",
          "Recovered",
          "Deceased",
          "Confirmed",
          "Recovered",
          "Deceased",
          "Confirmed",
          "Recovered",
          "Deceased",
          "Confirmed",
          "Recovered",
          "Deceased",
          "Confirmed",
          "Recovered",
          "Deceased",
          "Confirmed",
          "Recovered",
          "Deceased",
          "Confirmed",
          "Recovered",
          "Deceased",
          "Confirmed",
          "Recovered",
          "Deceased",
          "Confirmed",
          "Recovered",
          "Deceased",
          "Confirmed",
          "Recovered",
          "Deceased",
          "Confirmed",
          "Recovered",
          "Deceased",
          "Confirmed",
          "Recovered",
          "Deceased",
          "Confirmed",
          "Recovered",
          "Deceased",
          "Confirmed",
          "Recovered",
          "Deceased",
          "Confirmed",
          "Recovered",
          "Deceased",
          "Confirmed",
          "Recovered",
          "Deceased",
          "Confirmed",
          "Recovered",
          "Deceased",
          "Confirmed",
          "Recovered",
          "Deceased",
          "Confirmed",
          "Recovered",
          "Deceased",
          "Confirmed",
          "Recovered",
          "Deceased",
          "Confirmed",
          "Recovered",
          "Deceased",
          "Confirmed",
          "Recovered",
          "Deceased",
          "Confirmed",
          "Recovered",
          "Deceased",
          "Confirmed",
          "Recovered",
          "Deceased",
          "Confirmed",
          "Recovered",
          "Deceased",
          "Confirmed",
          "Recovered",
          "Deceased",
          "Confirmed",
          "Recovered",
          "Deceased",
          "Confirmed",
          "Recovered",
          "Deceased",
          "Confirmed",
          "Recovered",
          "Deceased",
          "Confirmed",
          "Recovered",
          "Deceased",
          "Confirmed",
          "Recovered",
          "Deceased",
          "Confirmed",
          "Recovered",
          "Deceased",
          "Confirmed",
          "Recovered",
          "Deceased",
          "Confirmed",
          "Recovered",
          "Deceased",
          "Confirmed",
          "Recovered",
          "Deceased",
          "Confirmed",
          "Recovered",
          "Deceased",
          "Confirmed",
          "Recovered",
          "Deceased",
          "Confirmed",
          "Recovered",
          "Deceased",
          "Confirmed",
          "Recovered",
          "Deceased",
          "Confirmed",
          "Recovered",
          "Deceased",
          "Confirmed",
          "Recovered",
          "Deceased",
          "Confirmed",
          "Recovered",
          "Deceased",
          "Confirmed",
          "Recovered",
          "Deceased",
          "Confirmed",
          "Recovered",
          "Deceased",
          "Confirmed",
          "Recovered",
          "Deceased",
          "Confirmed",
          "Recovered",
          "Deceased",
          "Confirmed",
          "Recovered",
          "Deceased",
          "Confirmed",
          "Recovered",
          "Deceased",
          "Confirmed",
          "Recovered",
          "Deceased",
          "Confirmed",
          "Recovered",
          "Deceased",
          "Confirmed",
          "Recovered",
          "Deceased",
          "Confirmed",
          "Recovered",
          "Deceased",
          "Confirmed",
          "Recovered",
          "Deceased",
          "Confirmed",
          "Recovered",
          "Deceased",
          "Confirmed",
          "Recovered",
          "Deceased",
          "Confirmed",
          "Recovered",
          "Deceased",
          "Confirmed",
          "Recovered",
          "Deceased",
          "Confirmed",
          "Recovered",
          "Deceased",
          "Confirmed",
          "Recovered",
          "Deceased",
          "Confirmed",
          "Recovered",
          "Deceased",
          "Confirmed",
          "Recovered",
          "Deceased",
          "Confirmed",
          "Recovered",
          "Deceased",
          "Confirmed",
          "Recovered",
          "Deceased",
          "Confirmed",
          "Recovered",
          "Deceased",
          "Confirmed",
          "Recovered",
          "Deceased",
          "Confirmed",
          "Recovered",
          "Deceased",
          "Confirmed",
          "Recovered",
          "Deceased",
          "Confirmed",
          "Recovered",
          "Deceased",
          "Confirmed",
          "Recovered",
          "Deceased",
          "Confirmed",
          "Recovered",
          "Deceased",
          "Confirmed",
          "Recovered",
          "Deceased",
          "Confirmed",
          "Recovered",
          "Deceased",
          "Confirmed",
          "Recovered",
          "Deceased",
          "Confirmed",
          "Recovered",
          "Deceased",
          "Confirmed",
          "Recovered",
          "Deceased",
          "Confirmed",
          "Recovered",
          "Deceased",
          "Confirmed",
          "Recovered",
          "Deceased",
          "Confirmed",
          "Recovered",
          "Deceased",
          "Confirmed",
          "Recovered",
          "Deceased",
          "Confirmed",
          "Recovered",
          "Deceased",
          "Confirmed",
          "Recovered",
          "Deceased",
          "Confirmed",
          "Recovered",
          "Deceased",
          "Confirmed",
          "Recovered",
          "Deceased",
          "Confirmed",
          "Recovered",
          "Deceased",
          "Confirmed",
          "Recovered",
          "Deceased",
          "Confirmed",
          "Recovered",
          "Deceased",
          "Confirmed",
          "Recovered",
          "Deceased",
          "Confirmed",
          "Recovered",
          "Deceased",
          "Confirmed",
          "Recovered",
          "Deceased",
          "Confirmed",
          "Recovered",
          "Deceased",
          "Confirmed",
          "Recovered",
          "Deceased",
          "Confirmed",
          "Recovered",
          "Deceased",
          "Confirmed",
          "Recovered",
          "Deceased",
          "Confirmed",
          "Recovered",
          "Deceased",
          "Confirmed",
          "Recovered",
          "Deceased",
          "Confirmed",
          "Recovered",
          "Deceased",
          "Confirmed",
          "Recovered",
          "Deceased",
          "Confirmed",
          "Recovered",
          "Deceased",
          "Confirmed",
          "Recovered",
          "Deceased",
          "Confirmed",
          "Recovered",
          "Deceased",
          "Confirmed",
          "Recovered",
          "Deceased",
          "Confirmed",
          "Recovered",
          "Deceased",
          "Confirmed",
          "Recovered",
          "Deceased",
          "Confirmed",
          "Recovered",
          "Deceased",
          "Confirmed",
          "Recovered",
          "Deceased",
          "Confirmed",
          "Recovered",
          "Deceased",
          "Confirmed",
          "Recovered",
          "Deceased",
          "Confirmed",
          "Recovered",
          "Deceased",
          "Confirmed",
          "Recovered",
          "Deceased",
          "Confirmed",
          "Recovered",
          "Deceased",
          "Confirmed",
          "Recovered",
          "Deceased",
          "Confirmed",
          "Recovered",
          "Deceased",
          "Confirmed",
          "Recovered",
          "Deceased",
          "Confirmed",
          "Recovered",
          "Deceased",
          "Confirmed",
          "Recovered",
          "Deceased",
          "Confirmed",
          "Recovered",
          "Deceased",
          "Confirmed",
          "Recovered",
          "Deceased",
          "Confirmed",
          "Recovered",
          "Deceased",
          "Confirmed",
          "Recovered",
          "Deceased",
          "Confirmed",
          "Recovered",
          "Deceased",
          "Confirmed",
          "Recovered",
          "Deceased",
          "Confirmed",
          "Recovered",
          "Deceased",
          "Confirmed",
          "Recovered",
          "Deceased",
          "Confirmed",
          "Recovered",
          "Deceased",
          "Confirmed",
          "Recovered",
          "Deceased",
          "Confirmed",
          "Recovered",
          "Deceased",
          "Confirmed",
          "Recovered",
          "Deceased",
          "Confirmed",
          "Recovered",
          "Deceased",
          "Confirmed",
          "Recovered",
          "Deceased",
          "Confirmed",
          "Recovered",
          "Deceased",
          "Confirmed",
          "Recovered",
          "Deceased",
          "Confirmed",
          "Recovered",
          "Deceased",
          "Confirmed",
          "Recovered",
          "Deceased",
          "Confirmed",
          "Recovered",
          "Deceased",
          "Confirmed",
          "Recovered",
          "Deceased",
          "Confirmed",
          "Recovered",
          "Deceased",
          "Confirmed",
          "Recovered",
          "Deceased",
          "Confirmed",
          "Recovered",
          "Deceased",
          "Confirmed",
          "Recovered",
          "Deceased",
          "Confirmed",
          "Recovered",
          "Deceased",
          "Confirmed",
          "Recovered",
          "Deceased",
          "Confirmed",
          "Recovered",
          "Deceased",
          "Confirmed",
          "Recovered",
          "Deceased",
          "Confirmed",
          "Recovered",
          "Deceased",
          "Confirmed",
          "Recovered",
          "Deceased",
          "Confirmed",
          "Recovered",
          "Deceased",
          "Confirmed",
          "Recovered",
          "Deceased",
          "Confirmed",
          "Recovered",
          "Deceased",
          "Confirmed",
          "Recovered",
          "Deceased",
          "Confirmed",
          "Recovered",
          "Deceased",
          "Confirmed",
          "Recovered",
          "Deceased",
          "Confirmed",
          "Recovered",
          "Deceased",
          "Confirmed",
          "Recovered",
          "Deceased",
          "Confirmed",
          "Recovered",
          "Deceased",
          "Confirmed",
          "Recovered",
          "Deceased",
          "Confirmed",
          "Recovered",
          "Deceased",
          "Confirmed",
          "Recovered",
          "Deceased",
          "Confirmed",
          "Recovered",
          "Deceased",
          "Confirmed",
          "Recovered",
          "Deceased",
          "Confirmed",
          "Recovered",
          "Deceased",
          "Confirmed",
          "Recovered",
          "Deceased",
          "Confirmed",
          "Recovered",
          "Deceased",
          "Confirmed",
          "Recovered",
          "Deceased",
          "Confirmed",
          "Recovered",
          "Deceased",
          "Confirmed",
          "Recovered",
          "Deceased",
          "Confirmed",
          "Recovered",
          "Deceased",
          "Confirmed",
          "Recovered",
          "Deceased",
          "Confirmed",
          "Recovered",
          "Deceased",
          "Confirmed",
          "Recovered",
          "Deceased",
          "Confirmed",
          "Recovered",
          "Deceased",
          "Confirmed",
          "Recovered",
          "Deceased",
          "Confirmed",
          "Recovered",
          "Deceased",
          "Confirmed",
          "Recovered",
          "Deceased",
          "Confirmed",
          "Recovered",
          "Deceased",
          "Confirmed",
          "Recovered",
          "Deceased",
          "Confirmed",
          "Recovered",
          "Deceased"
         ]
        }
       ],
       "layout": {
        "barmode": "overlay",
        "legend": {
         "bgcolor": "#F5F6F9",
         "font": {
          "color": "#4D5663"
         }
        },
        "paper_bgcolor": "#F5F6F9",
        "plot_bgcolor": "#F5F6F9",
        "template": {
         "data": {
          "bar": [
           {
            "error_x": {
             "color": "#2a3f5f"
            },
            "error_y": {
             "color": "#2a3f5f"
            },
            "marker": {
             "line": {
              "color": "#E5ECF6",
              "width": 0.5
             }
            },
            "type": "bar"
           }
          ],
          "barpolar": [
           {
            "marker": {
             "line": {
              "color": "#E5ECF6",
              "width": 0.5
             }
            },
            "type": "barpolar"
           }
          ],
          "carpet": [
           {
            "aaxis": {
             "endlinecolor": "#2a3f5f",
             "gridcolor": "white",
             "linecolor": "white",
             "minorgridcolor": "white",
             "startlinecolor": "#2a3f5f"
            },
            "baxis": {
             "endlinecolor": "#2a3f5f",
             "gridcolor": "white",
             "linecolor": "white",
             "minorgridcolor": "white",
             "startlinecolor": "#2a3f5f"
            },
            "type": "carpet"
           }
          ],
          "choropleth": [
           {
            "colorbar": {
             "outlinewidth": 0,
             "ticks": ""
            },
            "type": "choropleth"
           }
          ],
          "contour": [
           {
            "colorbar": {
             "outlinewidth": 0,
             "ticks": ""
            },
            "colorscale": [
             [
              0,
              "#0d0887"
             ],
             [
              0.1111111111111111,
              "#46039f"
             ],
             [
              0.2222222222222222,
              "#7201a8"
             ],
             [
              0.3333333333333333,
              "#9c179e"
             ],
             [
              0.4444444444444444,
              "#bd3786"
             ],
             [
              0.5555555555555556,
              "#d8576b"
             ],
             [
              0.6666666666666666,
              "#ed7953"
             ],
             [
              0.7777777777777778,
              "#fb9f3a"
             ],
             [
              0.8888888888888888,
              "#fdca26"
             ],
             [
              1,
              "#f0f921"
             ]
            ],
            "type": "contour"
           }
          ],
          "contourcarpet": [
           {
            "colorbar": {
             "outlinewidth": 0,
             "ticks": ""
            },
            "type": "contourcarpet"
           }
          ],
          "heatmap": [
           {
            "colorbar": {
             "outlinewidth": 0,
             "ticks": ""
            },
            "colorscale": [
             [
              0,
              "#0d0887"
             ],
             [
              0.1111111111111111,
              "#46039f"
             ],
             [
              0.2222222222222222,
              "#7201a8"
             ],
             [
              0.3333333333333333,
              "#9c179e"
             ],
             [
              0.4444444444444444,
              "#bd3786"
             ],
             [
              0.5555555555555556,
              "#d8576b"
             ],
             [
              0.6666666666666666,
              "#ed7953"
             ],
             [
              0.7777777777777778,
              "#fb9f3a"
             ],
             [
              0.8888888888888888,
              "#fdca26"
             ],
             [
              1,
              "#f0f921"
             ]
            ],
            "type": "heatmap"
           }
          ],
          "heatmapgl": [
           {
            "colorbar": {
             "outlinewidth": 0,
             "ticks": ""
            },
            "colorscale": [
             [
              0,
              "#0d0887"
             ],
             [
              0.1111111111111111,
              "#46039f"
             ],
             [
              0.2222222222222222,
              "#7201a8"
             ],
             [
              0.3333333333333333,
              "#9c179e"
             ],
             [
              0.4444444444444444,
              "#bd3786"
             ],
             [
              0.5555555555555556,
              "#d8576b"
             ],
             [
              0.6666666666666666,
              "#ed7953"
             ],
             [
              0.7777777777777778,
              "#fb9f3a"
             ],
             [
              0.8888888888888888,
              "#fdca26"
             ],
             [
              1,
              "#f0f921"
             ]
            ],
            "type": "heatmapgl"
           }
          ],
          "histogram": [
           {
            "marker": {
             "colorbar": {
              "outlinewidth": 0,
              "ticks": ""
             }
            },
            "type": "histogram"
           }
          ],
          "histogram2d": [
           {
            "colorbar": {
             "outlinewidth": 0,
             "ticks": ""
            },
            "colorscale": [
             [
              0,
              "#0d0887"
             ],
             [
              0.1111111111111111,
              "#46039f"
             ],
             [
              0.2222222222222222,
              "#7201a8"
             ],
             [
              0.3333333333333333,
              "#9c179e"
             ],
             [
              0.4444444444444444,
              "#bd3786"
             ],
             [
              0.5555555555555556,
              "#d8576b"
             ],
             [
              0.6666666666666666,
              "#ed7953"
             ],
             [
              0.7777777777777778,
              "#fb9f3a"
             ],
             [
              0.8888888888888888,
              "#fdca26"
             ],
             [
              1,
              "#f0f921"
             ]
            ],
            "type": "histogram2d"
           }
          ],
          "histogram2dcontour": [
           {
            "colorbar": {
             "outlinewidth": 0,
             "ticks": ""
            },
            "colorscale": [
             [
              0,
              "#0d0887"
             ],
             [
              0.1111111111111111,
              "#46039f"
             ],
             [
              0.2222222222222222,
              "#7201a8"
             ],
             [
              0.3333333333333333,
              "#9c179e"
             ],
             [
              0.4444444444444444,
              "#bd3786"
             ],
             [
              0.5555555555555556,
              "#d8576b"
             ],
             [
              0.6666666666666666,
              "#ed7953"
             ],
             [
              0.7777777777777778,
              "#fb9f3a"
             ],
             [
              0.8888888888888888,
              "#fdca26"
             ],
             [
              1,
              "#f0f921"
             ]
            ],
            "type": "histogram2dcontour"
           }
          ],
          "mesh3d": [
           {
            "colorbar": {
             "outlinewidth": 0,
             "ticks": ""
            },
            "type": "mesh3d"
           }
          ],
          "parcoords": [
           {
            "line": {
             "colorbar": {
              "outlinewidth": 0,
              "ticks": ""
             }
            },
            "type": "parcoords"
           }
          ],
          "pie": [
           {
            "automargin": true,
            "type": "pie"
           }
          ],
          "scatter": [
           {
            "marker": {
             "colorbar": {
              "outlinewidth": 0,
              "ticks": ""
             }
            },
            "type": "scatter"
           }
          ],
          "scatter3d": [
           {
            "line": {
             "colorbar": {
              "outlinewidth": 0,
              "ticks": ""
             }
            },
            "marker": {
             "colorbar": {
              "outlinewidth": 0,
              "ticks": ""
             }
            },
            "type": "scatter3d"
           }
          ],
          "scattercarpet": [
           {
            "marker": {
             "colorbar": {
              "outlinewidth": 0,
              "ticks": ""
             }
            },
            "type": "scattercarpet"
           }
          ],
          "scattergeo": [
           {
            "marker": {
             "colorbar": {
              "outlinewidth": 0,
              "ticks": ""
             }
            },
            "type": "scattergeo"
           }
          ],
          "scattergl": [
           {
            "marker": {
             "colorbar": {
              "outlinewidth": 0,
              "ticks": ""
             }
            },
            "type": "scattergl"
           }
          ],
          "scattermapbox": [
           {
            "marker": {
             "colorbar": {
              "outlinewidth": 0,
              "ticks": ""
             }
            },
            "type": "scattermapbox"
           }
          ],
          "scatterpolar": [
           {
            "marker": {
             "colorbar": {
              "outlinewidth": 0,
              "ticks": ""
             }
            },
            "type": "scatterpolar"
           }
          ],
          "scatterpolargl": [
           {
            "marker": {
             "colorbar": {
              "outlinewidth": 0,
              "ticks": ""
             }
            },
            "type": "scatterpolargl"
           }
          ],
          "scatterternary": [
           {
            "marker": {
             "colorbar": {
              "outlinewidth": 0,
              "ticks": ""
             }
            },
            "type": "scatterternary"
           }
          ],
          "surface": [
           {
            "colorbar": {
             "outlinewidth": 0,
             "ticks": ""
            },
            "colorscale": [
             [
              0,
              "#0d0887"
             ],
             [
              0.1111111111111111,
              "#46039f"
             ],
             [
              0.2222222222222222,
              "#7201a8"
             ],
             [
              0.3333333333333333,
              "#9c179e"
             ],
             [
              0.4444444444444444,
              "#bd3786"
             ],
             [
              0.5555555555555556,
              "#d8576b"
             ],
             [
              0.6666666666666666,
              "#ed7953"
             ],
             [
              0.7777777777777778,
              "#fb9f3a"
             ],
             [
              0.8888888888888888,
              "#fdca26"
             ],
             [
              1,
              "#f0f921"
             ]
            ],
            "type": "surface"
           }
          ],
          "table": [
           {
            "cells": {
             "fill": {
              "color": "#EBF0F8"
             },
             "line": {
              "color": "white"
             }
            },
            "header": {
             "fill": {
              "color": "#C8D4E3"
             },
             "line": {
              "color": "white"
             }
            },
            "type": "table"
           }
          ]
         },
         "layout": {
          "annotationdefaults": {
           "arrowcolor": "#2a3f5f",
           "arrowhead": 0,
           "arrowwidth": 1
          },
          "coloraxis": {
           "colorbar": {
            "outlinewidth": 0,
            "ticks": ""
           }
          },
          "colorscale": {
           "diverging": [
            [
             0,
             "#8e0152"
            ],
            [
             0.1,
             "#c51b7d"
            ],
            [
             0.2,
             "#de77ae"
            ],
            [
             0.3,
             "#f1b6da"
            ],
            [
             0.4,
             "#fde0ef"
            ],
            [
             0.5,
             "#f7f7f7"
            ],
            [
             0.6,
             "#e6f5d0"
            ],
            [
             0.7,
             "#b8e186"
            ],
            [
             0.8,
             "#7fbc41"
            ],
            [
             0.9,
             "#4d9221"
            ],
            [
             1,
             "#276419"
            ]
           ],
           "sequential": [
            [
             0,
             "#0d0887"
            ],
            [
             0.1111111111111111,
             "#46039f"
            ],
            [
             0.2222222222222222,
             "#7201a8"
            ],
            [
             0.3333333333333333,
             "#9c179e"
            ],
            [
             0.4444444444444444,
             "#bd3786"
            ],
            [
             0.5555555555555556,
             "#d8576b"
            ],
            [
             0.6666666666666666,
             "#ed7953"
            ],
            [
             0.7777777777777778,
             "#fb9f3a"
            ],
            [
             0.8888888888888888,
             "#fdca26"
            ],
            [
             1,
             "#f0f921"
            ]
           ],
           "sequentialminus": [
            [
             0,
             "#0d0887"
            ],
            [
             0.1111111111111111,
             "#46039f"
            ],
            [
             0.2222222222222222,
             "#7201a8"
            ],
            [
             0.3333333333333333,
             "#9c179e"
            ],
            [
             0.4444444444444444,
             "#bd3786"
            ],
            [
             0.5555555555555556,
             "#d8576b"
            ],
            [
             0.6666666666666666,
             "#ed7953"
            ],
            [
             0.7777777777777778,
             "#fb9f3a"
            ],
            [
             0.8888888888888888,
             "#fdca26"
            ],
            [
             1,
             "#f0f921"
            ]
           ]
          },
          "colorway": [
           "#636efa",
           "#EF553B",
           "#00cc96",
           "#ab63fa",
           "#FFA15A",
           "#19d3f3",
           "#FF6692",
           "#B6E880",
           "#FF97FF",
           "#FECB52"
          ],
          "font": {
           "color": "#2a3f5f"
          },
          "geo": {
           "bgcolor": "white",
           "lakecolor": "white",
           "landcolor": "#E5ECF6",
           "showlakes": true,
           "showland": true,
           "subunitcolor": "white"
          },
          "hoverlabel": {
           "align": "left"
          },
          "hovermode": "closest",
          "mapbox": {
           "style": "light"
          },
          "paper_bgcolor": "white",
          "plot_bgcolor": "#E5ECF6",
          "polar": {
           "angularaxis": {
            "gridcolor": "white",
            "linecolor": "white",
            "ticks": ""
           },
           "bgcolor": "#E5ECF6",
           "radialaxis": {
            "gridcolor": "white",
            "linecolor": "white",
            "ticks": ""
           }
          },
          "scene": {
           "xaxis": {
            "backgroundcolor": "#E5ECF6",
            "gridcolor": "white",
            "gridwidth": 2,
            "linecolor": "white",
            "showbackground": true,
            "ticks": "",
            "zerolinecolor": "white"
           },
           "yaxis": {
            "backgroundcolor": "#E5ECF6",
            "gridcolor": "white",
            "gridwidth": 2,
            "linecolor": "white",
            "showbackground": true,
            "ticks": "",
            "zerolinecolor": "white"
           },
           "zaxis": {
            "backgroundcolor": "#E5ECF6",
            "gridcolor": "white",
            "gridwidth": 2,
            "linecolor": "white",
            "showbackground": true,
            "ticks": "",
            "zerolinecolor": "white"
           }
          },
          "shapedefaults": {
           "line": {
            "color": "#2a3f5f"
           }
          },
          "ternary": {
           "aaxis": {
            "gridcolor": "white",
            "linecolor": "white",
            "ticks": ""
           },
           "baxis": {
            "gridcolor": "white",
            "linecolor": "white",
            "ticks": ""
           },
           "bgcolor": "#E5ECF6",
           "caxis": {
            "gridcolor": "white",
            "linecolor": "white",
            "ticks": ""
           }
          },
          "title": {
           "x": 0.05
          },
          "xaxis": {
           "automargin": true,
           "gridcolor": "white",
           "linecolor": "white",
           "ticks": "",
           "title": {
            "standoff": 15
           },
           "zerolinecolor": "white",
           "zerolinewidth": 2
          },
          "yaxis": {
           "automargin": true,
           "gridcolor": "white",
           "linecolor": "white",
           "ticks": "",
           "title": {
            "standoff": 15
           },
           "zerolinecolor": "white",
           "zerolinewidth": 2
          }
         }
        },
        "title": {
         "font": {
          "color": "#4D5663"
         }
        },
        "xaxis": {
         "gridcolor": "#E1E5ED",
         "showgrid": true,
         "tickfont": {
          "color": "#4D5663"
         },
         "title": {
          "font": {
           "color": "#4D5663"
          },
          "text": ""
         },
         "zerolinecolor": "#E1E5ED"
        },
        "yaxis": {
         "gridcolor": "#E1E5ED",
         "showgrid": true,
         "tickfont": {
          "color": "#4D5663"
         },
         "title": {
          "font": {
           "color": "#4D5663"
          },
          "text": ""
         },
         "zerolinecolor": "#E1E5ED"
        }
       }
      },
      "text/html": [
       "<div>\n",
       "        \n",
       "        \n",
       "            <div id=\"4ab8de25-006f-4b36-844f-5599b3f43f66\" class=\"plotly-graph-div\" style=\"height:525px; width:100%;\"></div>\n",
       "            <script type=\"text/javascript\">\n",
       "                require([\"plotly\"], function(Plotly) {\n",
       "                    window.PLOTLYENV=window.PLOTLYENV || {};\n",
       "                    window.PLOTLYENV.BASE_URL='https://plot.ly';\n",
       "                    \n",
       "                if (document.getElementById(\"4ab8de25-006f-4b36-844f-5599b3f43f66\")) {\n",
       "                    Plotly.newPlot(\n",
       "                        '4ab8de25-006f-4b36-844f-5599b3f43f66',\n",
       "                        [{\"histfunc\": \"count\", \"histnorm\": \"\", \"marker\": {\"color\": \"rgba(255, 153, 51, 1.0)\", \"line\": {\"color\": \"#4D5663\", \"width\": 1.3}}, \"name\": \"Status\", \"nbinsx\": 20, \"opacity\": 0.8, \"orientation\": \"v\", \"type\": \"histogram\", \"x\": [\"Confirmed\", \"Recovered\", \"Deceased\", \"Confirmed\", \"Recovered\", \"Deceased\", \"Confirmed\", \"Recovered\", \"Deceased\", \"Confirmed\", \"Recovered\", \"Deceased\", \"Confirmed\", \"Recovered\", \"Deceased\", \"Confirmed\", \"Recovered\", \"Deceased\", \"Confirmed\", \"Recovered\", \"Deceased\", \"Confirmed\", \"Recovered\", \"Deceased\", \"Confirmed\", \"Recovered\", \"Deceased\", \"Confirmed\", \"Recovered\", \"Deceased\", \"Confirmed\", \"Recovered\", \"Deceased\", \"Confirmed\", \"Recovered\", \"Deceased\", \"Confirmed\", \"Recovered\", \"Deceased\", \"Confirmed\", \"Recovered\", \"Deceased\", \"Confirmed\", \"Recovered\", \"Deceased\", \"Confirmed\", \"Recovered\", \"Deceased\", \"Confirmed\", \"Recovered\", \"Deceased\", \"Confirmed\", \"Recovered\", \"Deceased\", \"Confirmed\", \"Recovered\", \"Deceased\", \"Confirmed\", \"Recovered\", \"Deceased\", \"Confirmed\", \"Recovered\", \"Deceased\", \"Confirmed\", \"Recovered\", \"Deceased\", \"Confirmed\", \"Recovered\", \"Deceased\", \"Confirmed\", \"Recovered\", \"Deceased\", \"Confirmed\", \"Recovered\", \"Deceased\", \"Confirmed\", \"Recovered\", \"Deceased\", \"Confirmed\", \"Recovered\", \"Deceased\", \"Confirmed\", \"Recovered\", \"Deceased\", \"Confirmed\", \"Recovered\", \"Deceased\", \"Confirmed\", \"Recovered\", \"Deceased\", \"Confirmed\", \"Recovered\", \"Deceased\", \"Confirmed\", \"Recovered\", \"Deceased\", \"Confirmed\", \"Recovered\", \"Deceased\", \"Confirmed\", \"Recovered\", \"Deceased\", \"Confirmed\", \"Recovered\", \"Deceased\", \"Confirmed\", \"Recovered\", \"Deceased\", \"Confirmed\", \"Recovered\", \"Deceased\", \"Confirmed\", \"Recovered\", \"Deceased\", \"Confirmed\", \"Recovered\", \"Deceased\", \"Confirmed\", \"Recovered\", \"Deceased\", \"Confirmed\", \"Recovered\", \"Deceased\", \"Confirmed\", \"Recovered\", \"Deceased\", \"Confirmed\", \"Recovered\", \"Deceased\", \"Confirmed\", \"Recovered\", \"Deceased\", \"Confirmed\", \"Recovered\", \"Deceased\", \"Confirmed\", \"Recovered\", \"Deceased\", \"Confirmed\", \"Recovered\", \"Deceased\", \"Confirmed\", \"Recovered\", \"Deceased\", \"Confirmed\", \"Recovered\", \"Deceased\", \"Confirmed\", \"Recovered\", \"Deceased\", \"Confirmed\", \"Recovered\", \"Deceased\", \"Confirmed\", \"Recovered\", \"Deceased\", \"Confirmed\", \"Recovered\", \"Deceased\", \"Confirmed\", \"Recovered\", \"Deceased\", \"Confirmed\", \"Recovered\", \"Deceased\", \"Confirmed\", \"Recovered\", \"Deceased\", \"Confirmed\", \"Recovered\", \"Deceased\", \"Confirmed\", \"Recovered\", \"Deceased\", \"Confirmed\", \"Recovered\", \"Deceased\", \"Confirmed\", \"Recovered\", \"Deceased\", \"Confirmed\", \"Recovered\", \"Deceased\", \"Confirmed\", \"Recovered\", \"Deceased\", \"Confirmed\", \"Recovered\", \"Deceased\", \"Confirmed\", \"Recovered\", \"Deceased\", \"Confirmed\", \"Recovered\", \"Deceased\", \"Confirmed\", \"Recovered\", \"Deceased\", \"Confirmed\", \"Recovered\", \"Deceased\", \"Confirmed\", \"Recovered\", \"Deceased\", \"Confirmed\", \"Recovered\", \"Deceased\", \"Confirmed\", \"Recovered\", \"Deceased\", \"Confirmed\", \"Recovered\", \"Deceased\", \"Confirmed\", \"Recovered\", \"Deceased\", \"Confirmed\", \"Recovered\", \"Deceased\", \"Confirmed\", \"Recovered\", \"Deceased\", \"Confirmed\", \"Recovered\", \"Deceased\", \"Confirmed\", \"Recovered\", \"Deceased\", \"Confirmed\", \"Recovered\", \"Deceased\", \"Confirmed\", \"Recovered\", \"Deceased\", \"Confirmed\", \"Recovered\", \"Deceased\", \"Confirmed\", \"Recovered\", \"Deceased\", \"Confirmed\", \"Recovered\", \"Deceased\", \"Confirmed\", \"Recovered\", \"Deceased\", \"Confirmed\", \"Recovered\", \"Deceased\", \"Confirmed\", \"Recovered\", \"Deceased\", \"Confirmed\", \"Recovered\", \"Deceased\", \"Confirmed\", \"Recovered\", \"Deceased\", \"Confirmed\", \"Recovered\", \"Deceased\", \"Confirmed\", \"Recovered\", \"Deceased\", \"Confirmed\", \"Recovered\", \"Deceased\", \"Confirmed\", \"Recovered\", \"Deceased\", \"Confirmed\", \"Recovered\", \"Deceased\", \"Confirmed\", \"Recovered\", \"Deceased\", \"Confirmed\", \"Recovered\", \"Deceased\", \"Confirmed\", \"Recovered\", \"Deceased\", \"Confirmed\", \"Recovered\", \"Deceased\", \"Confirmed\", \"Recovered\", \"Deceased\", \"Confirmed\", \"Recovered\", \"Deceased\", \"Confirmed\", \"Recovered\", \"Deceased\", \"Confirmed\", \"Recovered\", \"Deceased\", \"Confirmed\", \"Recovered\", \"Deceased\", \"Confirmed\", \"Recovered\", \"Deceased\", \"Confirmed\", \"Recovered\", \"Deceased\", \"Confirmed\", \"Recovered\", \"Deceased\", \"Confirmed\", \"Recovered\", \"Deceased\", \"Confirmed\", \"Recovered\", \"Deceased\", \"Confirmed\", \"Recovered\", \"Deceased\", \"Confirmed\", \"Recovered\", \"Deceased\", \"Confirmed\", \"Recovered\", \"Deceased\", \"Confirmed\", \"Recovered\", \"Deceased\", \"Confirmed\", \"Recovered\", \"Deceased\", \"Confirmed\", \"Recovered\", \"Deceased\", \"Confirmed\", \"Recovered\", \"Deceased\", \"Confirmed\", \"Recovered\", \"Deceased\", \"Confirmed\", \"Recovered\", \"Deceased\", \"Confirmed\", \"Recovered\", \"Deceased\", \"Confirmed\", \"Recovered\", \"Deceased\", \"Confirmed\", \"Recovered\", \"Deceased\", \"Confirmed\", \"Recovered\", \"Deceased\", \"Confirmed\", \"Recovered\", \"Deceased\", \"Confirmed\", \"Recovered\", \"Deceased\", \"Confirmed\", \"Recovered\", \"Deceased\", \"Confirmed\", \"Recovered\", \"Deceased\", \"Confirmed\", \"Recovered\", \"Deceased\", \"Confirmed\", \"Recovered\", \"Deceased\", \"Confirmed\", \"Recovered\", \"Deceased\", \"Confirmed\", \"Recovered\", \"Deceased\", \"Confirmed\", \"Recovered\", \"Deceased\", \"Confirmed\", \"Recovered\", \"Deceased\", \"Confirmed\", \"Recovered\", \"Deceased\", \"Confirmed\", \"Recovered\", \"Deceased\", \"Confirmed\", \"Recovered\", \"Deceased\", \"Confirmed\", \"Recovered\", \"Deceased\", \"Confirmed\", \"Recovered\", \"Deceased\", \"Confirmed\", \"Recovered\", \"Deceased\", \"Confirmed\", \"Recovered\", \"Deceased\", \"Confirmed\", \"Recovered\", \"Deceased\", \"Confirmed\", \"Recovered\", \"Deceased\", \"Confirmed\", \"Recovered\", \"Deceased\", \"Confirmed\", \"Recovered\", \"Deceased\", \"Confirmed\", \"Recovered\", \"Deceased\", \"Confirmed\", \"Recovered\", \"Deceased\", \"Confirmed\", \"Recovered\", \"Deceased\", \"Confirmed\", \"Recovered\", \"Deceased\", \"Confirmed\", \"Recovered\", \"Deceased\", \"Confirmed\", \"Recovered\", \"Deceased\", \"Confirmed\", \"Recovered\", \"Deceased\", \"Confirmed\", \"Recovered\", \"Deceased\", \"Confirmed\", \"Recovered\", \"Deceased\", \"Confirmed\", \"Recovered\", \"Deceased\", \"Confirmed\", \"Recovered\", \"Deceased\", \"Confirmed\", \"Recovered\", \"Deceased\", \"Confirmed\", \"Recovered\", \"Deceased\", \"Confirmed\", \"Recovered\", \"Deceased\", \"Confirmed\", \"Recovered\", \"Deceased\", \"Confirmed\", \"Recovered\", \"Deceased\", \"Confirmed\", \"Recovered\", \"Deceased\", \"Confirmed\", \"Recovered\", \"Deceased\", \"Confirmed\", \"Recovered\", \"Deceased\", \"Confirmed\", \"Recovered\", \"Deceased\", \"Confirmed\", \"Recovered\", \"Deceased\", \"Confirmed\", \"Recovered\", \"Deceased\", \"Confirmed\", \"Recovered\", \"Deceased\", \"Confirmed\", \"Recovered\", \"Deceased\", \"Confirmed\", \"Recovered\", \"Deceased\", \"Confirmed\", \"Recovered\", \"Deceased\", \"Confirmed\", \"Recovered\", \"Deceased\", \"Confirmed\", \"Recovered\", \"Deceased\", \"Confirmed\", \"Recovered\", \"Deceased\", \"Confirmed\", \"Recovered\", \"Deceased\", \"Confirmed\", \"Recovered\", \"Deceased\", \"Confirmed\", \"Recovered\", \"Deceased\", \"Confirmed\", \"Recovered\", \"Deceased\", \"Confirmed\", \"Recovered\", \"Deceased\", \"Confirmed\", \"Recovered\", \"Deceased\", \"Confirmed\", \"Recovered\", \"Deceased\", \"Confirmed\", \"Recovered\", \"Deceased\"]}],\n",
       "                        {\"barmode\": \"overlay\", \"legend\": {\"bgcolor\": \"#F5F6F9\", \"font\": {\"color\": \"#4D5663\"}}, \"paper_bgcolor\": \"#F5F6F9\", \"plot_bgcolor\": \"#F5F6F9\", \"template\": {\"data\": {\"bar\": [{\"error_x\": {\"color\": \"#2a3f5f\"}, \"error_y\": {\"color\": \"#2a3f5f\"}, \"marker\": {\"line\": {\"color\": \"#E5ECF6\", \"width\": 0.5}}, \"type\": \"bar\"}], \"barpolar\": [{\"marker\": {\"line\": {\"color\": \"#E5ECF6\", \"width\": 0.5}}, \"type\": \"barpolar\"}], \"carpet\": [{\"aaxis\": {\"endlinecolor\": \"#2a3f5f\", \"gridcolor\": \"white\", \"linecolor\": \"white\", \"minorgridcolor\": \"white\", \"startlinecolor\": \"#2a3f5f\"}, \"baxis\": {\"endlinecolor\": \"#2a3f5f\", \"gridcolor\": \"white\", \"linecolor\": \"white\", \"minorgridcolor\": \"white\", \"startlinecolor\": \"#2a3f5f\"}, \"type\": \"carpet\"}], \"choropleth\": [{\"colorbar\": {\"outlinewidth\": 0, \"ticks\": \"\"}, \"type\": \"choropleth\"}], \"contour\": [{\"colorbar\": {\"outlinewidth\": 0, \"ticks\": \"\"}, \"colorscale\": [[0.0, \"#0d0887\"], [0.1111111111111111, \"#46039f\"], [0.2222222222222222, \"#7201a8\"], [0.3333333333333333, \"#9c179e\"], [0.4444444444444444, \"#bd3786\"], [0.5555555555555556, \"#d8576b\"], [0.6666666666666666, \"#ed7953\"], [0.7777777777777778, \"#fb9f3a\"], [0.8888888888888888, \"#fdca26\"], [1.0, \"#f0f921\"]], \"type\": \"contour\"}], \"contourcarpet\": [{\"colorbar\": {\"outlinewidth\": 0, \"ticks\": \"\"}, \"type\": \"contourcarpet\"}], \"heatmap\": [{\"colorbar\": {\"outlinewidth\": 0, \"ticks\": \"\"}, \"colorscale\": [[0.0, \"#0d0887\"], [0.1111111111111111, \"#46039f\"], [0.2222222222222222, \"#7201a8\"], [0.3333333333333333, \"#9c179e\"], [0.4444444444444444, \"#bd3786\"], [0.5555555555555556, \"#d8576b\"], [0.6666666666666666, \"#ed7953\"], [0.7777777777777778, \"#fb9f3a\"], [0.8888888888888888, \"#fdca26\"], [1.0, \"#f0f921\"]], \"type\": \"heatmap\"}], \"heatmapgl\": [{\"colorbar\": {\"outlinewidth\": 0, \"ticks\": \"\"}, \"colorscale\": [[0.0, \"#0d0887\"], [0.1111111111111111, \"#46039f\"], [0.2222222222222222, \"#7201a8\"], [0.3333333333333333, \"#9c179e\"], [0.4444444444444444, \"#bd3786\"], [0.5555555555555556, \"#d8576b\"], [0.6666666666666666, \"#ed7953\"], [0.7777777777777778, \"#fb9f3a\"], [0.8888888888888888, \"#fdca26\"], [1.0, \"#f0f921\"]], \"type\": \"heatmapgl\"}], \"histogram\": [{\"marker\": {\"colorbar\": {\"outlinewidth\": 0, \"ticks\": \"\"}}, \"type\": \"histogram\"}], \"histogram2d\": [{\"colorbar\": {\"outlinewidth\": 0, \"ticks\": \"\"}, \"colorscale\": [[0.0, \"#0d0887\"], [0.1111111111111111, \"#46039f\"], [0.2222222222222222, \"#7201a8\"], [0.3333333333333333, \"#9c179e\"], [0.4444444444444444, \"#bd3786\"], [0.5555555555555556, \"#d8576b\"], [0.6666666666666666, \"#ed7953\"], [0.7777777777777778, \"#fb9f3a\"], [0.8888888888888888, \"#fdca26\"], [1.0, \"#f0f921\"]], \"type\": \"histogram2d\"}], \"histogram2dcontour\": [{\"colorbar\": {\"outlinewidth\": 0, \"ticks\": \"\"}, \"colorscale\": [[0.0, \"#0d0887\"], [0.1111111111111111, \"#46039f\"], [0.2222222222222222, \"#7201a8\"], [0.3333333333333333, \"#9c179e\"], [0.4444444444444444, \"#bd3786\"], [0.5555555555555556, \"#d8576b\"], [0.6666666666666666, \"#ed7953\"], [0.7777777777777778, \"#fb9f3a\"], [0.8888888888888888, \"#fdca26\"], [1.0, \"#f0f921\"]], \"type\": \"histogram2dcontour\"}], \"mesh3d\": [{\"colorbar\": {\"outlinewidth\": 0, \"ticks\": \"\"}, \"type\": \"mesh3d\"}], \"parcoords\": [{\"line\": {\"colorbar\": {\"outlinewidth\": 0, \"ticks\": \"\"}}, \"type\": \"parcoords\"}], \"pie\": [{\"automargin\": true, \"type\": \"pie\"}], \"scatter\": [{\"marker\": {\"colorbar\": {\"outlinewidth\": 0, \"ticks\": \"\"}}, \"type\": \"scatter\"}], \"scatter3d\": [{\"line\": {\"colorbar\": {\"outlinewidth\": 0, \"ticks\": \"\"}}, \"marker\": {\"colorbar\": {\"outlinewidth\": 0, \"ticks\": \"\"}}, \"type\": \"scatter3d\"}], \"scattercarpet\": [{\"marker\": {\"colorbar\": {\"outlinewidth\": 0, \"ticks\": \"\"}}, \"type\": \"scattercarpet\"}], \"scattergeo\": [{\"marker\": {\"colorbar\": {\"outlinewidth\": 0, \"ticks\": \"\"}}, \"type\": \"scattergeo\"}], \"scattergl\": [{\"marker\": {\"colorbar\": {\"outlinewidth\": 0, \"ticks\": \"\"}}, \"type\": \"scattergl\"}], \"scattermapbox\": [{\"marker\": {\"colorbar\": {\"outlinewidth\": 0, \"ticks\": \"\"}}, \"type\": \"scattermapbox\"}], \"scatterpolar\": [{\"marker\": {\"colorbar\": {\"outlinewidth\": 0, \"ticks\": \"\"}}, \"type\": \"scatterpolar\"}], \"scatterpolargl\": [{\"marker\": {\"colorbar\": {\"outlinewidth\": 0, \"ticks\": \"\"}}, \"type\": \"scatterpolargl\"}], \"scatterternary\": [{\"marker\": {\"colorbar\": {\"outlinewidth\": 0, \"ticks\": \"\"}}, \"type\": \"scatterternary\"}], \"surface\": [{\"colorbar\": {\"outlinewidth\": 0, \"ticks\": \"\"}, \"colorscale\": [[0.0, \"#0d0887\"], [0.1111111111111111, \"#46039f\"], [0.2222222222222222, \"#7201a8\"], [0.3333333333333333, \"#9c179e\"], [0.4444444444444444, \"#bd3786\"], [0.5555555555555556, \"#d8576b\"], [0.6666666666666666, \"#ed7953\"], [0.7777777777777778, \"#fb9f3a\"], [0.8888888888888888, \"#fdca26\"], [1.0, \"#f0f921\"]], \"type\": \"surface\"}], \"table\": [{\"cells\": {\"fill\": {\"color\": \"#EBF0F8\"}, \"line\": {\"color\": \"white\"}}, \"header\": {\"fill\": {\"color\": \"#C8D4E3\"}, \"line\": {\"color\": \"white\"}}, \"type\": \"table\"}]}, \"layout\": {\"annotationdefaults\": {\"arrowcolor\": \"#2a3f5f\", \"arrowhead\": 0, \"arrowwidth\": 1}, \"coloraxis\": {\"colorbar\": {\"outlinewidth\": 0, \"ticks\": \"\"}}, \"colorscale\": {\"diverging\": [[0, \"#8e0152\"], [0.1, \"#c51b7d\"], [0.2, \"#de77ae\"], [0.3, \"#f1b6da\"], [0.4, \"#fde0ef\"], [0.5, \"#f7f7f7\"], [0.6, \"#e6f5d0\"], [0.7, \"#b8e186\"], [0.8, \"#7fbc41\"], [0.9, \"#4d9221\"], [1, \"#276419\"]], \"sequential\": [[0.0, \"#0d0887\"], [0.1111111111111111, \"#46039f\"], [0.2222222222222222, \"#7201a8\"], [0.3333333333333333, \"#9c179e\"], [0.4444444444444444, \"#bd3786\"], [0.5555555555555556, \"#d8576b\"], [0.6666666666666666, \"#ed7953\"], [0.7777777777777778, \"#fb9f3a\"], [0.8888888888888888, \"#fdca26\"], [1.0, \"#f0f921\"]], \"sequentialminus\": [[0.0, \"#0d0887\"], [0.1111111111111111, \"#46039f\"], [0.2222222222222222, \"#7201a8\"], [0.3333333333333333, \"#9c179e\"], [0.4444444444444444, \"#bd3786\"], [0.5555555555555556, \"#d8576b\"], [0.6666666666666666, \"#ed7953\"], [0.7777777777777778, \"#fb9f3a\"], [0.8888888888888888, \"#fdca26\"], [1.0, \"#f0f921\"]]}, \"colorway\": [\"#636efa\", \"#EF553B\", \"#00cc96\", \"#ab63fa\", \"#FFA15A\", \"#19d3f3\", \"#FF6692\", \"#B6E880\", \"#FF97FF\", \"#FECB52\"], \"font\": {\"color\": \"#2a3f5f\"}, \"geo\": {\"bgcolor\": \"white\", \"lakecolor\": \"white\", \"landcolor\": \"#E5ECF6\", \"showlakes\": true, \"showland\": true, \"subunitcolor\": \"white\"}, \"hoverlabel\": {\"align\": \"left\"}, \"hovermode\": \"closest\", \"mapbox\": {\"style\": \"light\"}, \"paper_bgcolor\": \"white\", \"plot_bgcolor\": \"#E5ECF6\", \"polar\": {\"angularaxis\": {\"gridcolor\": \"white\", \"linecolor\": \"white\", \"ticks\": \"\"}, \"bgcolor\": \"#E5ECF6\", \"radialaxis\": {\"gridcolor\": \"white\", \"linecolor\": \"white\", \"ticks\": \"\"}}, \"scene\": {\"xaxis\": {\"backgroundcolor\": \"#E5ECF6\", \"gridcolor\": \"white\", \"gridwidth\": 2, \"linecolor\": \"white\", \"showbackground\": true, \"ticks\": \"\", \"zerolinecolor\": \"white\"}, \"yaxis\": {\"backgroundcolor\": \"#E5ECF6\", \"gridcolor\": \"white\", \"gridwidth\": 2, \"linecolor\": \"white\", \"showbackground\": true, \"ticks\": \"\", \"zerolinecolor\": \"white\"}, \"zaxis\": {\"backgroundcolor\": \"#E5ECF6\", \"gridcolor\": \"white\", \"gridwidth\": 2, \"linecolor\": \"white\", \"showbackground\": true, \"ticks\": \"\", \"zerolinecolor\": \"white\"}}, \"shapedefaults\": {\"line\": {\"color\": \"#2a3f5f\"}}, \"ternary\": {\"aaxis\": {\"gridcolor\": \"white\", \"linecolor\": \"white\", \"ticks\": \"\"}, \"baxis\": {\"gridcolor\": \"white\", \"linecolor\": \"white\", \"ticks\": \"\"}, \"bgcolor\": \"#E5ECF6\", \"caxis\": {\"gridcolor\": \"white\", \"linecolor\": \"white\", \"ticks\": \"\"}}, \"title\": {\"x\": 0.05}, \"xaxis\": {\"automargin\": true, \"gridcolor\": \"white\", \"linecolor\": \"white\", \"ticks\": \"\", \"title\": {\"standoff\": 15}, \"zerolinecolor\": \"white\", \"zerolinewidth\": 2}, \"yaxis\": {\"automargin\": true, \"gridcolor\": \"white\", \"linecolor\": \"white\", \"ticks\": \"\", \"title\": {\"standoff\": 15}, \"zerolinecolor\": \"white\", \"zerolinewidth\": 2}}}, \"title\": {\"font\": {\"color\": \"#4D5663\"}}, \"xaxis\": {\"gridcolor\": \"#E1E5ED\", \"showgrid\": true, \"tickfont\": {\"color\": \"#4D5663\"}, \"title\": {\"font\": {\"color\": \"#4D5663\"}, \"text\": \"\"}, \"zerolinecolor\": \"#E1E5ED\"}, \"yaxis\": {\"gridcolor\": \"#E1E5ED\", \"showgrid\": true, \"tickfont\": {\"color\": \"#4D5663\"}, \"title\": {\"font\": {\"color\": \"#4D5663\"}, \"text\": \"\"}, \"zerolinecolor\": \"#E1E5ED\"}},\n",
       "                        {\"showLink\": true, \"linkText\": \"Export to plot.ly\", \"plotlyServerURL\": \"https://plot.ly\", \"responsive\": true}\n",
       "                    ).then(function(){\n",
       "                            \n",
       "var gd = document.getElementById('4ab8de25-006f-4b36-844f-5599b3f43f66');\n",
       "var x = new MutationObserver(function (mutations, observer) {{\n",
       "        var display = window.getComputedStyle(gd).display;\n",
       "        if (!display || display === 'none') {{\n",
       "            console.log([gd, 'removed!']);\n",
       "            Plotly.purge(gd);\n",
       "            observer.disconnect();\n",
       "        }}\n",
       "}});\n",
       "\n",
       "// Listen for the removal of the full notebook cells\n",
       "var notebookContainer = gd.closest('#notebook-container');\n",
       "if (notebookContainer) {{\n",
       "    x.observe(notebookContainer, {childList: true});\n",
       "}}\n",
       "\n",
       "// Listen for the clearing of the current output cell\n",
       "var outputEl = gd.closest('.output');\n",
       "if (outputEl) {{\n",
       "    x.observe(outputEl, {childList: true});\n",
       "}}\n",
       "\n",
       "                        })\n",
       "                };\n",
       "                });\n",
       "            </script>\n",
       "        </div>"
      ]
     },
     "metadata": {},
     "output_type": "display_data"
    }
   ],
   "source": [
    "df['Status'].iplot(kind='hist',bins=20)"
   ]
  },
  {
   "cell_type": "code",
   "execution_count": 17,
   "metadata": {},
   "outputs": [
    {
     "data": {
      "application/vnd.plotly.v1+json": {
       "config": {
        "linkText": "Export to plot.ly",
        "plotlyServerURL": "https://plot.ly",
        "showLink": true
       },
       "data": [
        {
         "colorscale": [
          [
           0,
           "rgb(255, 153, 51)"
          ],
          [
           0.1111111111111111,
           "rgb(55, 128, 191)"
          ],
          [
           0.2222222222222222,
           "rgb(50, 171, 96)"
          ],
          [
           0.3333333333333333,
           "rgb(128, 0, 128)"
          ],
          [
           0.4444444444444444,
           "rgb(219, 64, 82)"
          ],
          [
           0.5555555555555556,
           "rgb(0, 128, 128)"
          ],
          [
           0.6666666666666666,
           "rgb(255, 255, 51)"
          ],
          [
           0.7777777777777778,
           "rgb(128, 128, 0)"
          ],
          [
           0.8888888888888888,
           "rgb(251, 128, 114)"
          ],
          [
           1,
           "rgb(128, 177, 211)"
          ]
         ],
         "type": "surface",
         "x": [
          0,
          1,
          2,
          3,
          4,
          5,
          6,
          7,
          8,
          9,
          10,
          11,
          12,
          13,
          14,
          15,
          16,
          17,
          18,
          19,
          20,
          21,
          22,
          23,
          24,
          25,
          26,
          27,
          28,
          29,
          30,
          31,
          32,
          33,
          34,
          35,
          36,
          37,
          38,
          39,
          40,
          41,
          42,
          43,
          44,
          45,
          46,
          47,
          48,
          49,
          50,
          51,
          52,
          53,
          54,
          55,
          56,
          57,
          58,
          59,
          60,
          61,
          62,
          63,
          64,
          65,
          66,
          67,
          68,
          69,
          70,
          71,
          72,
          73,
          74,
          75,
          76,
          77,
          78,
          79,
          80,
          81,
          82,
          83,
          84,
          85,
          86,
          87,
          88,
          89,
          90,
          91,
          92,
          93,
          94,
          95,
          96,
          97,
          98,
          99,
          100,
          101,
          102,
          103,
          104,
          105,
          106,
          107,
          108,
          109,
          110,
          111,
          112,
          113,
          114,
          115,
          116,
          117,
          118,
          119,
          120,
          121,
          122,
          123,
          124,
          125,
          126,
          127,
          128,
          129,
          130,
          131,
          132,
          133,
          134,
          135,
          136,
          137,
          138,
          139,
          140,
          141,
          142,
          143,
          144,
          145,
          146,
          147,
          148,
          149,
          150,
          151,
          152,
          153,
          154,
          155,
          156,
          157,
          158,
          159,
          160,
          161,
          162,
          163,
          164,
          165,
          166,
          167,
          168,
          169,
          170,
          171,
          172,
          173,
          174,
          175,
          176,
          177,
          178,
          179,
          180,
          181,
          182,
          183,
          184,
          185,
          186,
          187,
          188,
          189,
          190,
          191,
          192,
          193,
          194,
          195,
          196,
          197,
          198,
          199,
          200,
          201,
          202,
          203,
          204,
          205,
          206,
          207,
          208,
          209,
          210,
          211,
          212,
          213,
          214,
          215,
          216,
          217,
          218,
          219,
          220,
          221,
          222,
          223,
          224,
          225,
          226,
          227,
          228,
          229,
          230,
          231,
          232,
          233,
          234,
          235,
          236,
          237,
          238,
          239,
          240,
          241,
          242,
          243,
          244,
          245,
          246,
          247,
          248,
          249,
          250,
          251,
          252,
          253,
          254,
          255,
          256,
          257,
          258,
          259,
          260,
          261,
          262,
          263,
          264,
          265,
          266,
          267,
          268,
          269,
          270,
          271,
          272,
          273,
          274,
          275,
          276,
          277,
          278,
          279,
          280,
          281,
          282,
          283,
          284,
          285,
          286,
          287,
          288,
          289,
          290,
          291,
          292,
          293,
          294,
          295,
          296,
          297,
          298,
          299,
          300,
          301,
          302,
          303,
          304,
          305,
          306,
          307,
          308,
          309,
          310,
          311,
          312,
          313,
          314,
          315,
          316,
          317,
          318,
          319,
          320,
          321,
          322,
          323,
          324,
          325,
          326,
          327,
          328,
          329,
          330,
          331,
          332,
          333,
          334,
          335,
          336,
          337,
          338,
          339,
          340,
          341,
          342,
          343,
          344,
          345,
          346,
          347,
          348,
          349,
          350,
          351,
          352,
          353,
          354,
          355,
          356,
          357,
          358,
          359,
          360,
          361,
          362,
          363,
          364,
          365,
          366,
          367,
          368,
          369,
          370,
          371,
          372,
          373,
          374,
          375,
          376,
          377,
          378,
          379,
          380,
          381,
          382,
          383,
          384,
          385,
          386,
          387,
          388,
          389,
          390,
          391,
          392,
          393,
          394,
          395,
          396,
          397,
          398,
          399,
          400,
          401,
          402,
          403,
          404,
          405,
          406,
          407,
          408,
          409,
          410,
          411,
          412,
          413,
          414,
          415,
          416,
          417,
          418,
          419,
          420,
          421,
          422,
          423,
          424,
          425,
          426,
          427,
          428,
          429,
          430,
          431,
          432,
          433,
          434,
          435,
          436,
          437,
          438,
          439,
          440,
          441,
          442,
          443,
          444,
          445,
          446,
          447,
          448,
          449,
          450,
          451,
          452,
          453,
          454,
          455,
          456,
          457,
          458,
          459,
          460,
          461,
          462,
          463,
          464,
          465,
          466,
          467,
          468,
          469,
          470,
          471,
          472,
          473,
          474,
          475,
          476,
          477,
          478,
          479,
          480,
          481,
          482,
          483,
          484,
          485,
          486,
          487,
          488,
          489,
          490,
          491,
          492,
          493,
          494,
          495,
          496,
          497,
          498,
          499,
          500,
          501,
          502,
          503,
          504,
          505,
          506,
          507,
          508,
          509,
          510,
          511,
          512,
          513,
          514,
          515,
          516,
          517,
          518,
          519,
          520,
          521,
          522,
          523,
          524,
          525,
          526,
          527
         ],
         "y": [
          "TT",
          "DL",
          "MH"
         ],
         "z": [
          [
           81,
           9,
           2,
           27,
           4,
           0,
           15,
           1,
           0,
           11,
           1,
           1,
           37,
           0,
           0,
           27,
           5,
           1,
           58,
           3,
           0,
           78,
           0,
           0,
           67,
           0,
           3,
           102,
           12,
           2,
           64,
           5,
           1,
           90,
           3,
           1,
           65,
           7,
           5,
           164,
           26,
           3,
           143,
           9,
           5,
           110,
           5,
           3,
           187,
           49,
           13,
           309,
           15,
           6,
           424,
           16,
           9,
           486,
           22,
           14,
           560,
           38,
           14,
           579,
           56,
           13,
           609,
           43,
           22,
           484,
           65,
           16,
           572,
           75,
           27,
           565,
           96,
           20,
           813,
           70,
           46,
           871,
           151,
           22,
           854,
           186,
           40,
           758,
           114,
           42,
           1243,
           112,
           27,
           1031,
           167,
           37,
           886,
           144,
           27,
           1061,
           258,
           26,
           922,
           273,
           38,
           1371,
           426,
           35,
           1580,
           388,
           38,
           1239,
           419,
           33,
           1537,
           703,
           53,
           1292,
           394,
           36,
           1667,
           642,
           40,
           1408,
           484,
           59,
           1835,
           442,
           44,
           1607,
           585,
           56,
           1568,
           580,
           58,
           1902,
           636,
           69,
           1705,
           690,
           71,
           1802,
           630,
           75,
           2396,
           962,
           77,
           2564,
           831,
           92,
           2952,
           911,
           140,
           3656,
           1082,
           103,
           2971,
           1295,
           128,
           3602,
           1161,
           91,
           3344,
           1475,
           104,
           3339,
           1111,
           97,
           3175,
           1414,
           115,
           4311,
           1669,
           112,
           3592,
           1579,
           81,
           3562,
           1905,
           120,
           3726,
           1963,
           137,
           3991,
           1594,
           97,
           3808,
           2234,
           104,
           4794,
           4012,
           120,
           5049,
           2538,
           152,
           4628,
           2482,
           131,
           6154,
           3032,
           146,
           5720,
           3113,
           134,
           6023,
           3131,
           148,
           6536,
           3280,
           142,
           6663,
           2576,
           142,
           7111,
           3285,
           156,
           6414,
           3012,
           150,
           5907,
           3585,
           173,
           7246,
           3434,
           188,
           7254,
           3171,
           176,
           8138,
           11735,
           269,
           8364,
           4303,
           205,
           8789,
           4928,
           222,
           7723,
           3882,
           201,
           8812,
           4531,
           222,
           9689,
           3789,
           259,
           9847,
           4390,
           274,
           9472,
           4770,
           286,
           10408,
           5433,
           297,
           10882,
           5191,
           261,
           8536,
           5171,
           271,
           9981,
           5634,
           272,
           11156,
           6275,
           358,
           11135,
           6044,
           394,
           11306,
           7263,
           388,
           12039,
           8092,
           309,
           11405,
           7358,
           324,
           10032,
           10639,
           396,
           11086,
           7226,
           2004,
           13108,
           6890,
           341,
           13829,
           10741,
           343,
           14638,
           9029,
           364,
           15918,
           13974,
           308,
           15151,
           9075,
           426,
           13560,
           10879,
           312,
           15656,
           10462,
           468,
           16868,
           13089,
           424,
           18205,
           13983,
           401,
           18255,
           10246,
           381,
           20142,
           14229,
           414,
           19610,
           11631,
           384,
           18339,
           13497,
           417,
           18256,
           12565,
           506,
           19429,
           12064,
           438,
           21947,
           19999,
           378,
           22718,
           14417,
           444,
           24018,
           14746,
           611,
           23942,
           15829,
           421,
           22500,
           15315,
           473,
           23147,
           16836,
           479,
           25561,
           19508,
           492,
           25790,
           19408,
           479,
           27762,
           20289,
           520,
           27757,
           19981,
           543,
           29106,
           18198,
           500,
           28178,
           17683,
           541,
           29917,
           20977,
           587,
           32607,
           20646,
           614,
           35468,
           22867,
           680,
           34820,
           17476,
           676,
           37411,
           23583,
           543,
           40235,
           22730,
           675,
           36806,
           24303,
           596,
           39170,
           27589,
           671,
           45601,
           31875,
           1130,
           48443,
           33326,
           755,
           48888,
           32514,
           763,
           50072,
           37125,
           703,
           48932,
           31512,
           704,
           46484,
           34354,
           642,
           49631,
           35683,
           774,
           52479,
           32886,
           775,
           54968,
           37425,
           784,
           57486,
           36554,
           764,
           55117,
           51368,
           854,
           52672,
           40355,
           760,
           50488,
           43070,
           806,
           51282,
           51220,
           849,
           56626,
           45583,
           919,
           62170,
           50141,
           899,
           61455,
           50387,
           936,
           65156,
           52135,
           875,
           62117,
           54474,
           1013,
           53016,
           47362,
           887,
           61252,
           56461,
           835,
           67066,
           57759,
           950,
           64141,
           54776,
           1006,
           65610,
           56920,
           989,
           63986,
           53116,
           952,
           58096,
           57404,
           952,
           54298,
           58172,
           880,
           64999,
           60455,
           1099,
           69196,
           59365,
           979,
           68518,
           61873,
           981,
           68519,
           62858,
           953,
           70067,
           59101,
           918,
           61749,
           56896,
           846,
           59696,
           66305,
           854,
           66873,
           64151,
           1066,
           75995,
           56191,
           1017,
           76827,
           59620,
           1066,
           76657,
           64475,
           1019,
           78479,
           64982,
           943,
           79461,
           60422,
           960,
           68766,
           64435,
           816,
           78168,
           62145,
           892,
           82860,
           67874,
           913,
           84156,
           67491,
           979,
           87115,
           69625,
           950,
           90600,
           73161,
           916
          ],
          [
           7,
           1,
           1,
           0,
           1,
           0,
           0,
           0,
           0,
           1,
           0,
           0,
           2,
           0,
           0,
           4,
           1,
           0,
           6,
           2,
           0,
           7,
           0,
           0,
           0,
           0,
           0,
           3,
           0,
           0,
           0,
           1,
           0,
           5,
           0,
           0,
           1,
           0,
           0,
           4,
           0,
           0,
           9,
           0,
           0,
           23,
           0,
           1,
           25,
           0,
           0,
           23,
           0,
           0,
           32,
           0,
           0,
           141,
           2,
           2,
           93,
           0,
           2,
           59,
           8,
           0,
           58,
           0,
           1,
           22,
           0,
           0,
           51,
           4,
           2,
           93,
           1,
           0,
           51,
           4,
           3,
           183,
           2,
           2,
           166,
           0,
           5,
           85,
           1,
           5,
           356,
           3,
           4,
           51,
           0,
           2,
           17,
           10,
           2,
           62,
           11,
           6,
           67,
           20,
           4,
           186,
           135,
           1,
           110,
           83,
           2,
           78,
           141,
           2,
           75,
           180,
           0,
           92,
           113,
           1,
           128,
           84,
           2,
           138,
           49,
           3,
           111,
           12,
           1,
           293,
           8,
           0,
           190,
           0,
           0,
           206,
           201,
           0,
           125,
           14,
           2,
           76,
           2,
           3,
           223,
           73,
           2,
           384,
           89,
           3,
           427,
           106,
           0,
           349,
           69,
           0,
           206,
           37,
           0,
           428,
           74,
           1,
           448,
           389,
           1,
           338,
           89,
           2,
           224,
           0,
           0,
           381,
           49,
           5,
           310,
           60,
           0,
           406,
           383,
           13,
           359,
           346,
           20,
           472,
           187,
           9,
           425,
           473,
           8,
           438,
           408,
           6,
           422,
           276,
           19,
           299,
           283,
           12,
           500,
           265,
           6,
           534,
           442,
           10,
           571,
           375,
           18,
           660,
           330,
           14,
           591,
           370,
           23,
           508,
           273,
           30,
           635,
           231,
           15,
           412,
           183,
           12,
           792,
           310,
           15,
           1024,
           231,
           13,
           1105,
           351,
           82,
           1163,
           229,
           18,
           1295,
           403,
           57,
           990,
           268,
           50,
           1298,
           497,
           33,
           1513,
           299,
           59,
           1359,
           356,
           44,
           1330,
           417,
           49,
           1320,
           349,
           53,
           1282,
           335,
           51,
           1007,
           358,
           62,
           1366,
           504,
           31,
           1501,
           384,
           79,
           1877,
           486,
           101,
           2137,
           667,
           129,
           2134,
           1547,
           57,
           2224,
           878,
           56,
           1647,
           604,
           73,
           1859,
           73,
           437,
           2414,
           957,
           67,
           2877,
           3884,
           65,
           3137,
           2228,
           66,
           3630,
           7725,
           77,
           3000,
           1719,
           63,
           2909,
           3589,
           58,
           3947,
           2711,
           68,
           3788,
           2124,
           64,
           3390,
           3328,
           64,
           3460,
           2326,
           63,
           2948,
           2210,
           66,
           2889,
           3306,
           65,
           2084,
           3628,
           57,
           2199,
           2113,
           62,
           2442,
           1644,
           61,
           2373,
           3015,
           61,
           2520,
           2617,
           59,
           2505,
           2632,
           81,
           2244,
           3083,
           63,
           1379,
           749,
           48,
           2008,
           2129,
           50,
           2033,
           3982,
           48,
           2187,
           4027,
           45,
           2089,
           2468,
           42,
           1781,
           2998,
           34,
           1573,
           2276,
           37,
           1246,
           1344,
           40,
           1606,
           1924,
           35,
           1647,
           2463,
           41,
           1652,
           1994,
           58,
           1462,
           1608,
           26,
           1475,
           1973,
           26,
           1211,
           1860,
           31,
           954,
           1784,
           35,
           1349,
           1200,
           27,
           1227,
           1532,
           29,
           1041,
           1415,
           26,
           1025,
           1866,
           32,
           1142,
           2137,
           29,
           1075,
           1807,
           21,
           613,
           1497,
           26,
           1056,
           1135,
           28,
           1035,
           1126,
           26,
           1093,
           1091,
           29,
           1195,
           1206,
           27,
           1118,
           1201,
           26,
           961,
           1186,
           15,
           805,
           937,
           17,
           674,
           972,
           12,
           1076,
           890,
           11,
           1299,
           1008,
           15,
           1192,
           1108,
           23,
           1404,
           1130,
           16,
           1300,
           1225,
           13,
           707,
           1070,
           20,
           1257,
           727,
           8,
           1113,
           1021,
           14,
           956,
           913,
           14,
           1192,
           790,
           11,
           1276,
           1143,
           10,
           652,
           1310,
           8,
           787,
           740,
           18,
           1374,
           1146,
           12,
           1398,
           1320,
           9,
           1215,
           1059,
           22,
           1250,
           1082,
           13,
           1412,
           1230,
           14,
           1450,
           1250,
           16,
           1061,
           1200,
           13,
           1544,
           1155,
           17,
           1693,
           1154,
           17,
           1840,
           1130,
           22,
           1808,
           1446,
           20,
           1954,
           1449,
           15,
           2024,
           1249,
           22,
           1358,
           1507,
           18,
           2312,
           1050,
           18,
           2509,
           1858,
           19,
           2737,
           1528,
           19,
           2914,
           1751,
           13,
           2973,
           1920,
           25
          ],
          [
           14,
           0,
           0,
           18,
           0,
           0,
           6,
           0,
           0,
           3,
           0,
           1,
           3,
           0,
           0,
           4,
           0,
           0,
           4,
           0,
           0,
           12,
           0,
           0,
           10,
           0,
           1,
           23,
           0,
           0,
           10,
           0,
           0,
           15,
           1,
           0,
           3,
           0,
           1,
           31,
           18,
           1,
           30,
           6,
           2,
           17,
           0,
           1,
           17,
           14,
           2,
           82,
           0,
           1,
           33,
           0,
           3,
           88,
           3,
           8,
           64,
           8,
           5,
           148,
           2,
           6,
           112,
           4,
           13,
           121,
           14,
           7,
           150,
           9,
           12,
           117,
           38,
           8,
           229,
           8,
           25,
           210,
           63,
           12,
           187,
           20,
           17,
           221,
           9,
           22,
           352,
           12,
           11,
           346,
           30,
           18,
           236,
           36,
           9,
           285,
           5,
           7,
           120,
           31,
           7,
           327,
           34,
           10,
           552,
           142,
           12,
           466,
           65,
           9,
           552,
           150,
           19,
           431,
           67,
           18,
           778,
           51,
           14,
           390,
           117,
           18,
           811,
           119,
           22,
           440,
           112,
           19,
           522,
           94,
           27,
           728,
           106,
           31,
           597,
           205,
           32,
           583,
           180,
           27,
           1008,
           106,
           26,
           790,
           121,
           36,
           678,
           115,
           27,
           1567,
           350,
           35,
           984,
           354,
           34,
           1233,
           275,
           34,
           1216,
           207,
           43,
           1089,
           169,
           37,
           1165,
           330,
           48,
           1943,
           399,
           53,
           1230,
           587,
           36,
           1026,
           339,
           53,
           1495,
           422,
           54,
           1602,
           542,
           44,
           1576,
           475,
           49,
           1606,
           524,
           67,
           2347,
           600,
           63,
           2005,
           749,
           51,
           2078,
           1202,
           76,
           2161,
           679,
           65,
           2345,
           1408,
           64,
           2940,
           857,
           63,
           2608,
           821,
           60,
           3041,
           1196,
           58,
           2436,
           1186,
           60,
           2091,
           1168,
           97,
           2190,
           964,
           105,
           2598,
           698,
           85,
           2682,
           8381,
           116,
           2940,
           1084,
           99,
           2487,
           1248,
           89,
           2358,
           779,
           76,
           2287,
           1225,
           103,
           2560,
           996,
           122,
           2933,
           1352,
           123,
           2436,
           1466,
           139,
           2739,
           2243,
           120,
           3007,
           1924,
           91,
           2554,
           1661,
           109,
           2258,
           1664,
           120,
           3254,
           1877,
           149,
           3607,
           1562,
           152,
           3493,
           1718,
           127,
           3427,
           1550,
           113,
           3390,
           1632,
           120,
           2786,
           5071,
           178,
           2701,
           1802,
           1409,
           3307,
           1315,
           114,
           3752,
           1672,
           100,
           3827,
           1935,
           142,
           3874,
           1380,
           91,
           3870,
           1591,
           186,
           3721,
           1962,
           113,
           3214,
           1925,
           248,
           3889,
           4161,
           208,
           4842,
           3661,
           192,
           5024,
           2362,
           175,
           6368,
           4430,
           167,
           5493,
           2330,
           156,
           5257,
           2385,
           181,
           4878,
           1951,
           245,
           5537,
           2243,
           198,
           6328,
           8018,
           125,
           6364,
           3515,
           198,
           7074,
           3395,
           295,
           6555,
           3658,
           151,
           5368,
           3522,
           204,
           5134,
           3296,
           224,
           6603,
           4634,
           198,
           6875,
           4067,
           219,
           7862,
           5366,
           226,
           8139,
           4360,
           223,
           7827,
           3340,
           173,
           6497,
           4182,
           193,
           6741,
           4500,
           213,
           7975,
           3606,
           233,
           8641,
           5527,
           266,
           8308,
           2217,
           258,
           8348,
           5306,
           144,
           9518,
           3906,
           258,
           8240,
           5460,
           176,
           8336,
           7188,
           246,
           10576,
           5552,
           280,
           9895,
           6484,
           298,
           9615,
           5714,
           278,
           9251,
           7227,
           257,
           9431,
           6044,
           267,
           7924,
           8706,
           227,
           7717,
           10333,
           282,
           9211,
           7478,
           298,
           11147,
           8860,
           266,
           10320,
           7543,
           265,
           9601,
           10725,
           322,
           9509,
           9926,
           260,
           8968,
           10221,
           266,
           7760,
           12326,
           300,
           10309,
           6165,
           334,
           11514,
           10854,
           316,
           10483,
           10906,
           300,
           12822,
           11081,
           275,
           12248,
           13348,
           390,
           9181,
           6711,
           293,
           11088,
           10014,
           256,
           12712,
           13408,
           344,
           11813,
           9115,
           413,
           12608,
           10484,
           364,
           12020,
           6844,
           322,
           11111,
           8837,
           288,
           8493,
           11391,
           228,
           11119,
           9356,
           422,
           13165,
           9011,
           346,
           14647,
           12243,
           326,
           14161,
           11749,
           339,
           14492,
           9241,
           297,
           10441,
           8157,
           258,
           11015,
           14219,
           212,
           10425,
           12300,
           329,
           14888,
           7637,
           295,
           14857,
           9136,
           355,
           14427,
           11607,
           331,
           16286,
           11541,
           328,
           16408,
           7690,
           296,
           11852,
           11158,
           184,
           15765,
           10978,
           320,
           17433,
           13959,
           292,
           18105,
           13988,
           391,
           19218,
           13289,
           378,
           20800,
           10801,
           312
          ]
         ]
        }
       ],
       "layout": {
        "legend": {
         "bgcolor": "#F5F6F9",
         "font": {
          "color": "#4D5663"
         }
        },
        "paper_bgcolor": "#F5F6F9",
        "plot_bgcolor": "#F5F6F9",
        "template": {
         "data": {
          "bar": [
           {
            "error_x": {
             "color": "#2a3f5f"
            },
            "error_y": {
             "color": "#2a3f5f"
            },
            "marker": {
             "line": {
              "color": "#E5ECF6",
              "width": 0.5
             }
            },
            "type": "bar"
           }
          ],
          "barpolar": [
           {
            "marker": {
             "line": {
              "color": "#E5ECF6",
              "width": 0.5
             }
            },
            "type": "barpolar"
           }
          ],
          "carpet": [
           {
            "aaxis": {
             "endlinecolor": "#2a3f5f",
             "gridcolor": "white",
             "linecolor": "white",
             "minorgridcolor": "white",
             "startlinecolor": "#2a3f5f"
            },
            "baxis": {
             "endlinecolor": "#2a3f5f",
             "gridcolor": "white",
             "linecolor": "white",
             "minorgridcolor": "white",
             "startlinecolor": "#2a3f5f"
            },
            "type": "carpet"
           }
          ],
          "choropleth": [
           {
            "colorbar": {
             "outlinewidth": 0,
             "ticks": ""
            },
            "type": "choropleth"
           }
          ],
          "contour": [
           {
            "colorbar": {
             "outlinewidth": 0,
             "ticks": ""
            },
            "colorscale": [
             [
              0,
              "#0d0887"
             ],
             [
              0.1111111111111111,
              "#46039f"
             ],
             [
              0.2222222222222222,
              "#7201a8"
             ],
             [
              0.3333333333333333,
              "#9c179e"
             ],
             [
              0.4444444444444444,
              "#bd3786"
             ],
             [
              0.5555555555555556,
              "#d8576b"
             ],
             [
              0.6666666666666666,
              "#ed7953"
             ],
             [
              0.7777777777777778,
              "#fb9f3a"
             ],
             [
              0.8888888888888888,
              "#fdca26"
             ],
             [
              1,
              "#f0f921"
             ]
            ],
            "type": "contour"
           }
          ],
          "contourcarpet": [
           {
            "colorbar": {
             "outlinewidth": 0,
             "ticks": ""
            },
            "type": "contourcarpet"
           }
          ],
          "heatmap": [
           {
            "colorbar": {
             "outlinewidth": 0,
             "ticks": ""
            },
            "colorscale": [
             [
              0,
              "#0d0887"
             ],
             [
              0.1111111111111111,
              "#46039f"
             ],
             [
              0.2222222222222222,
              "#7201a8"
             ],
             [
              0.3333333333333333,
              "#9c179e"
             ],
             [
              0.4444444444444444,
              "#bd3786"
             ],
             [
              0.5555555555555556,
              "#d8576b"
             ],
             [
              0.6666666666666666,
              "#ed7953"
             ],
             [
              0.7777777777777778,
              "#fb9f3a"
             ],
             [
              0.8888888888888888,
              "#fdca26"
             ],
             [
              1,
              "#f0f921"
             ]
            ],
            "type": "heatmap"
           }
          ],
          "heatmapgl": [
           {
            "colorbar": {
             "outlinewidth": 0,
             "ticks": ""
            },
            "colorscale": [
             [
              0,
              "#0d0887"
             ],
             [
              0.1111111111111111,
              "#46039f"
             ],
             [
              0.2222222222222222,
              "#7201a8"
             ],
             [
              0.3333333333333333,
              "#9c179e"
             ],
             [
              0.4444444444444444,
              "#bd3786"
             ],
             [
              0.5555555555555556,
              "#d8576b"
             ],
             [
              0.6666666666666666,
              "#ed7953"
             ],
             [
              0.7777777777777778,
              "#fb9f3a"
             ],
             [
              0.8888888888888888,
              "#fdca26"
             ],
             [
              1,
              "#f0f921"
             ]
            ],
            "type": "heatmapgl"
           }
          ],
          "histogram": [
           {
            "marker": {
             "colorbar": {
              "outlinewidth": 0,
              "ticks": ""
             }
            },
            "type": "histogram"
           }
          ],
          "histogram2d": [
           {
            "colorbar": {
             "outlinewidth": 0,
             "ticks": ""
            },
            "colorscale": [
             [
              0,
              "#0d0887"
             ],
             [
              0.1111111111111111,
              "#46039f"
             ],
             [
              0.2222222222222222,
              "#7201a8"
             ],
             [
              0.3333333333333333,
              "#9c179e"
             ],
             [
              0.4444444444444444,
              "#bd3786"
             ],
             [
              0.5555555555555556,
              "#d8576b"
             ],
             [
              0.6666666666666666,
              "#ed7953"
             ],
             [
              0.7777777777777778,
              "#fb9f3a"
             ],
             [
              0.8888888888888888,
              "#fdca26"
             ],
             [
              1,
              "#f0f921"
             ]
            ],
            "type": "histogram2d"
           }
          ],
          "histogram2dcontour": [
           {
            "colorbar": {
             "outlinewidth": 0,
             "ticks": ""
            },
            "colorscale": [
             [
              0,
              "#0d0887"
             ],
             [
              0.1111111111111111,
              "#46039f"
             ],
             [
              0.2222222222222222,
              "#7201a8"
             ],
             [
              0.3333333333333333,
              "#9c179e"
             ],
             [
              0.4444444444444444,
              "#bd3786"
             ],
             [
              0.5555555555555556,
              "#d8576b"
             ],
             [
              0.6666666666666666,
              "#ed7953"
             ],
             [
              0.7777777777777778,
              "#fb9f3a"
             ],
             [
              0.8888888888888888,
              "#fdca26"
             ],
             [
              1,
              "#f0f921"
             ]
            ],
            "type": "histogram2dcontour"
           }
          ],
          "mesh3d": [
           {
            "colorbar": {
             "outlinewidth": 0,
             "ticks": ""
            },
            "type": "mesh3d"
           }
          ],
          "parcoords": [
           {
            "line": {
             "colorbar": {
              "outlinewidth": 0,
              "ticks": ""
             }
            },
            "type": "parcoords"
           }
          ],
          "pie": [
           {
            "automargin": true,
            "type": "pie"
           }
          ],
          "scatter": [
           {
            "marker": {
             "colorbar": {
              "outlinewidth": 0,
              "ticks": ""
             }
            },
            "type": "scatter"
           }
          ],
          "scatter3d": [
           {
            "line": {
             "colorbar": {
              "outlinewidth": 0,
              "ticks": ""
             }
            },
            "marker": {
             "colorbar": {
              "outlinewidth": 0,
              "ticks": ""
             }
            },
            "type": "scatter3d"
           }
          ],
          "scattercarpet": [
           {
            "marker": {
             "colorbar": {
              "outlinewidth": 0,
              "ticks": ""
             }
            },
            "type": "scattercarpet"
           }
          ],
          "scattergeo": [
           {
            "marker": {
             "colorbar": {
              "outlinewidth": 0,
              "ticks": ""
             }
            },
            "type": "scattergeo"
           }
          ],
          "scattergl": [
           {
            "marker": {
             "colorbar": {
              "outlinewidth": 0,
              "ticks": ""
             }
            },
            "type": "scattergl"
           }
          ],
          "scattermapbox": [
           {
            "marker": {
             "colorbar": {
              "outlinewidth": 0,
              "ticks": ""
             }
            },
            "type": "scattermapbox"
           }
          ],
          "scatterpolar": [
           {
            "marker": {
             "colorbar": {
              "outlinewidth": 0,
              "ticks": ""
             }
            },
            "type": "scatterpolar"
           }
          ],
          "scatterpolargl": [
           {
            "marker": {
             "colorbar": {
              "outlinewidth": 0,
              "ticks": ""
             }
            },
            "type": "scatterpolargl"
           }
          ],
          "scatterternary": [
           {
            "marker": {
             "colorbar": {
              "outlinewidth": 0,
              "ticks": ""
             }
            },
            "type": "scatterternary"
           }
          ],
          "surface": [
           {
            "colorbar": {
             "outlinewidth": 0,
             "ticks": ""
            },
            "colorscale": [
             [
              0,
              "#0d0887"
             ],
             [
              0.1111111111111111,
              "#46039f"
             ],
             [
              0.2222222222222222,
              "#7201a8"
             ],
             [
              0.3333333333333333,
              "#9c179e"
             ],
             [
              0.4444444444444444,
              "#bd3786"
             ],
             [
              0.5555555555555556,
              "#d8576b"
             ],
             [
              0.6666666666666666,
              "#ed7953"
             ],
             [
              0.7777777777777778,
              "#fb9f3a"
             ],
             [
              0.8888888888888888,
              "#fdca26"
             ],
             [
              1,
              "#f0f921"
             ]
            ],
            "type": "surface"
           }
          ],
          "table": [
           {
            "cells": {
             "fill": {
              "color": "#EBF0F8"
             },
             "line": {
              "color": "white"
             }
            },
            "header": {
             "fill": {
              "color": "#C8D4E3"
             },
             "line": {
              "color": "white"
             }
            },
            "type": "table"
           }
          ]
         },
         "layout": {
          "annotationdefaults": {
           "arrowcolor": "#2a3f5f",
           "arrowhead": 0,
           "arrowwidth": 1
          },
          "coloraxis": {
           "colorbar": {
            "outlinewidth": 0,
            "ticks": ""
           }
          },
          "colorscale": {
           "diverging": [
            [
             0,
             "#8e0152"
            ],
            [
             0.1,
             "#c51b7d"
            ],
            [
             0.2,
             "#de77ae"
            ],
            [
             0.3,
             "#f1b6da"
            ],
            [
             0.4,
             "#fde0ef"
            ],
            [
             0.5,
             "#f7f7f7"
            ],
            [
             0.6,
             "#e6f5d0"
            ],
            [
             0.7,
             "#b8e186"
            ],
            [
             0.8,
             "#7fbc41"
            ],
            [
             0.9,
             "#4d9221"
            ],
            [
             1,
             "#276419"
            ]
           ],
           "sequential": [
            [
             0,
             "#0d0887"
            ],
            [
             0.1111111111111111,
             "#46039f"
            ],
            [
             0.2222222222222222,
             "#7201a8"
            ],
            [
             0.3333333333333333,
             "#9c179e"
            ],
            [
             0.4444444444444444,
             "#bd3786"
            ],
            [
             0.5555555555555556,
             "#d8576b"
            ],
            [
             0.6666666666666666,
             "#ed7953"
            ],
            [
             0.7777777777777778,
             "#fb9f3a"
            ],
            [
             0.8888888888888888,
             "#fdca26"
            ],
            [
             1,
             "#f0f921"
            ]
           ],
           "sequentialminus": [
            [
             0,
             "#0d0887"
            ],
            [
             0.1111111111111111,
             "#46039f"
            ],
            [
             0.2222222222222222,
             "#7201a8"
            ],
            [
             0.3333333333333333,
             "#9c179e"
            ],
            [
             0.4444444444444444,
             "#bd3786"
            ],
            [
             0.5555555555555556,
             "#d8576b"
            ],
            [
             0.6666666666666666,
             "#ed7953"
            ],
            [
             0.7777777777777778,
             "#fb9f3a"
            ],
            [
             0.8888888888888888,
             "#fdca26"
            ],
            [
             1,
             "#f0f921"
            ]
           ]
          },
          "colorway": [
           "#636efa",
           "#EF553B",
           "#00cc96",
           "#ab63fa",
           "#FFA15A",
           "#19d3f3",
           "#FF6692",
           "#B6E880",
           "#FF97FF",
           "#FECB52"
          ],
          "font": {
           "color": "#2a3f5f"
          },
          "geo": {
           "bgcolor": "white",
           "lakecolor": "white",
           "landcolor": "#E5ECF6",
           "showlakes": true,
           "showland": true,
           "subunitcolor": "white"
          },
          "hoverlabel": {
           "align": "left"
          },
          "hovermode": "closest",
          "mapbox": {
           "style": "light"
          },
          "paper_bgcolor": "white",
          "plot_bgcolor": "#E5ECF6",
          "polar": {
           "angularaxis": {
            "gridcolor": "white",
            "linecolor": "white",
            "ticks": ""
           },
           "bgcolor": "#E5ECF6",
           "radialaxis": {
            "gridcolor": "white",
            "linecolor": "white",
            "ticks": ""
           }
          },
          "scene": {
           "xaxis": {
            "backgroundcolor": "#E5ECF6",
            "gridcolor": "white",
            "gridwidth": 2,
            "linecolor": "white",
            "showbackground": true,
            "ticks": "",
            "zerolinecolor": "white"
           },
           "yaxis": {
            "backgroundcolor": "#E5ECF6",
            "gridcolor": "white",
            "gridwidth": 2,
            "linecolor": "white",
            "showbackground": true,
            "ticks": "",
            "zerolinecolor": "white"
           },
           "zaxis": {
            "backgroundcolor": "#E5ECF6",
            "gridcolor": "white",
            "gridwidth": 2,
            "linecolor": "white",
            "showbackground": true,
            "ticks": "",
            "zerolinecolor": "white"
           }
          },
          "shapedefaults": {
           "line": {
            "color": "#2a3f5f"
           }
          },
          "ternary": {
           "aaxis": {
            "gridcolor": "white",
            "linecolor": "white",
            "ticks": ""
           },
           "baxis": {
            "gridcolor": "white",
            "linecolor": "white",
            "ticks": ""
           },
           "bgcolor": "#E5ECF6",
           "caxis": {
            "gridcolor": "white",
            "linecolor": "white",
            "ticks": ""
           }
          },
          "title": {
           "x": 0.05
          },
          "xaxis": {
           "automargin": true,
           "gridcolor": "white",
           "linecolor": "white",
           "ticks": "",
           "title": {
            "standoff": 15
           },
           "zerolinecolor": "white",
           "zerolinewidth": 2
          },
          "yaxis": {
           "automargin": true,
           "gridcolor": "white",
           "linecolor": "white",
           "ticks": "",
           "title": {
            "standoff": 15
           },
           "zerolinecolor": "white",
           "zerolinewidth": 2
          }
         }
        },
        "title": {
         "font": {
          "color": "#4D5663"
         }
        },
        "xaxis": {
         "gridcolor": "#E1E5ED",
         "showgrid": true,
         "tickfont": {
          "color": "#4D5663"
         },
         "title": {
          "font": {
           "color": "#4D5663"
          },
          "text": ""
         },
         "zerolinecolor": "#E1E5ED"
        },
        "yaxis": {
         "gridcolor": "#E1E5ED",
         "showgrid": true,
         "tickfont": {
          "color": "#4D5663"
         },
         "title": {
          "font": {
           "color": "#4D5663"
          },
          "text": ""
         },
         "zerolinecolor": "#E1E5ED"
        }
       }
      },
      "text/html": [
       "<div>\n",
       "        \n",
       "        \n",
       "            <div id=\"67fc7ab8-6b68-4b97-a199-c17f386f5116\" class=\"plotly-graph-div\" style=\"height:525px; width:100%;\"></div>\n",
       "            <script type=\"text/javascript\">\n",
       "                require([\"plotly\"], function(Plotly) {\n",
       "                    window.PLOTLYENV=window.PLOTLYENV || {};\n",
       "                    window.PLOTLYENV.BASE_URL='https://plot.ly';\n",
       "                    \n",
       "                if (document.getElementById(\"67fc7ab8-6b68-4b97-a199-c17f386f5116\")) {\n",
       "                    Plotly.newPlot(\n",
       "                        '67fc7ab8-6b68-4b97-a199-c17f386f5116',\n",
       "                        [{\"colorscale\": [[0.0, \"rgb(255, 153, 51)\"], [0.1111111111111111, \"rgb(55, 128, 191)\"], [0.2222222222222222, \"rgb(50, 171, 96)\"], [0.3333333333333333, \"rgb(128, 0, 128)\"], [0.4444444444444444, \"rgb(219, 64, 82)\"], [0.5555555555555556, \"rgb(0, 128, 128)\"], [0.6666666666666666, \"rgb(255, 255, 51)\"], [0.7777777777777778, \"rgb(128, 128, 0)\"], [0.8888888888888888, \"rgb(251, 128, 114)\"], [1.0, \"rgb(128, 177, 211)\"]], \"type\": \"surface\", \"x\": [0, 1, 2, 3, 4, 5, 6, 7, 8, 9, 10, 11, 12, 13, 14, 15, 16, 17, 18, 19, 20, 21, 22, 23, 24, 25, 26, 27, 28, 29, 30, 31, 32, 33, 34, 35, 36, 37, 38, 39, 40, 41, 42, 43, 44, 45, 46, 47, 48, 49, 50, 51, 52, 53, 54, 55, 56, 57, 58, 59, 60, 61, 62, 63, 64, 65, 66, 67, 68, 69, 70, 71, 72, 73, 74, 75, 76, 77, 78, 79, 80, 81, 82, 83, 84, 85, 86, 87, 88, 89, 90, 91, 92, 93, 94, 95, 96, 97, 98, 99, 100, 101, 102, 103, 104, 105, 106, 107, 108, 109, 110, 111, 112, 113, 114, 115, 116, 117, 118, 119, 120, 121, 122, 123, 124, 125, 126, 127, 128, 129, 130, 131, 132, 133, 134, 135, 136, 137, 138, 139, 140, 141, 142, 143, 144, 145, 146, 147, 148, 149, 150, 151, 152, 153, 154, 155, 156, 157, 158, 159, 160, 161, 162, 163, 164, 165, 166, 167, 168, 169, 170, 171, 172, 173, 174, 175, 176, 177, 178, 179, 180, 181, 182, 183, 184, 185, 186, 187, 188, 189, 190, 191, 192, 193, 194, 195, 196, 197, 198, 199, 200, 201, 202, 203, 204, 205, 206, 207, 208, 209, 210, 211, 212, 213, 214, 215, 216, 217, 218, 219, 220, 221, 222, 223, 224, 225, 226, 227, 228, 229, 230, 231, 232, 233, 234, 235, 236, 237, 238, 239, 240, 241, 242, 243, 244, 245, 246, 247, 248, 249, 250, 251, 252, 253, 254, 255, 256, 257, 258, 259, 260, 261, 262, 263, 264, 265, 266, 267, 268, 269, 270, 271, 272, 273, 274, 275, 276, 277, 278, 279, 280, 281, 282, 283, 284, 285, 286, 287, 288, 289, 290, 291, 292, 293, 294, 295, 296, 297, 298, 299, 300, 301, 302, 303, 304, 305, 306, 307, 308, 309, 310, 311, 312, 313, 314, 315, 316, 317, 318, 319, 320, 321, 322, 323, 324, 325, 326, 327, 328, 329, 330, 331, 332, 333, 334, 335, 336, 337, 338, 339, 340, 341, 342, 343, 344, 345, 346, 347, 348, 349, 350, 351, 352, 353, 354, 355, 356, 357, 358, 359, 360, 361, 362, 363, 364, 365, 366, 367, 368, 369, 370, 371, 372, 373, 374, 375, 376, 377, 378, 379, 380, 381, 382, 383, 384, 385, 386, 387, 388, 389, 390, 391, 392, 393, 394, 395, 396, 397, 398, 399, 400, 401, 402, 403, 404, 405, 406, 407, 408, 409, 410, 411, 412, 413, 414, 415, 416, 417, 418, 419, 420, 421, 422, 423, 424, 425, 426, 427, 428, 429, 430, 431, 432, 433, 434, 435, 436, 437, 438, 439, 440, 441, 442, 443, 444, 445, 446, 447, 448, 449, 450, 451, 452, 453, 454, 455, 456, 457, 458, 459, 460, 461, 462, 463, 464, 465, 466, 467, 468, 469, 470, 471, 472, 473, 474, 475, 476, 477, 478, 479, 480, 481, 482, 483, 484, 485, 486, 487, 488, 489, 490, 491, 492, 493, 494, 495, 496, 497, 498, 499, 500, 501, 502, 503, 504, 505, 506, 507, 508, 509, 510, 511, 512, 513, 514, 515, 516, 517, 518, 519, 520, 521, 522, 523, 524, 525, 526, 527], \"y\": [\"TT\", \"DL\", \"MH\"], \"z\": [[81, 9, 2, 27, 4, 0, 15, 1, 0, 11, 1, 1, 37, 0, 0, 27, 5, 1, 58, 3, 0, 78, 0, 0, 67, 0, 3, 102, 12, 2, 64, 5, 1, 90, 3, 1, 65, 7, 5, 164, 26, 3, 143, 9, 5, 110, 5, 3, 187, 49, 13, 309, 15, 6, 424, 16, 9, 486, 22, 14, 560, 38, 14, 579, 56, 13, 609, 43, 22, 484, 65, 16, 572, 75, 27, 565, 96, 20, 813, 70, 46, 871, 151, 22, 854, 186, 40, 758, 114, 42, 1243, 112, 27, 1031, 167, 37, 886, 144, 27, 1061, 258, 26, 922, 273, 38, 1371, 426, 35, 1580, 388, 38, 1239, 419, 33, 1537, 703, 53, 1292, 394, 36, 1667, 642, 40, 1408, 484, 59, 1835, 442, 44, 1607, 585, 56, 1568, 580, 58, 1902, 636, 69, 1705, 690, 71, 1802, 630, 75, 2396, 962, 77, 2564, 831, 92, 2952, 911, 140, 3656, 1082, 103, 2971, 1295, 128, 3602, 1161, 91, 3344, 1475, 104, 3339, 1111, 97, 3175, 1414, 115, 4311, 1669, 112, 3592, 1579, 81, 3562, 1905, 120, 3726, 1963, 137, 3991, 1594, 97, 3808, 2234, 104, 4794, 4012, 120, 5049, 2538, 152, 4628, 2482, 131, 6154, 3032, 146, 5720, 3113, 134, 6023, 3131, 148, 6536, 3280, 142, 6663, 2576, 142, 7111, 3285, 156, 6414, 3012, 150, 5907, 3585, 173, 7246, 3434, 188, 7254, 3171, 176, 8138, 11735, 269, 8364, 4303, 205, 8789, 4928, 222, 7723, 3882, 201, 8812, 4531, 222, 9689, 3789, 259, 9847, 4390, 274, 9472, 4770, 286, 10408, 5433, 297, 10882, 5191, 261, 8536, 5171, 271, 9981, 5634, 272, 11156, 6275, 358, 11135, 6044, 394, 11306, 7263, 388, 12039, 8092, 309, 11405, 7358, 324, 10032, 10639, 396, 11086, 7226, 2004, 13108, 6890, 341, 13829, 10741, 343, 14638, 9029, 364, 15918, 13974, 308, 15151, 9075, 426, 13560, 10879, 312, 15656, 10462, 468, 16868, 13089, 424, 18205, 13983, 401, 18255, 10246, 381, 20142, 14229, 414, 19610, 11631, 384, 18339, 13497, 417, 18256, 12565, 506, 19429, 12064, 438, 21947, 19999, 378, 22718, 14417, 444, 24018, 14746, 611, 23942, 15829, 421, 22500, 15315, 473, 23147, 16836, 479, 25561, 19508, 492, 25790, 19408, 479, 27762, 20289, 520, 27757, 19981, 543, 29106, 18198, 500, 28178, 17683, 541, 29917, 20977, 587, 32607, 20646, 614, 35468, 22867, 680, 34820, 17476, 676, 37411, 23583, 543, 40235, 22730, 675, 36806, 24303, 596, 39170, 27589, 671, 45601, 31875, 1130, 48443, 33326, 755, 48888, 32514, 763, 50072, 37125, 703, 48932, 31512, 704, 46484, 34354, 642, 49631, 35683, 774, 52479, 32886, 775, 54968, 37425, 784, 57486, 36554, 764, 55117, 51368, 854, 52672, 40355, 760, 50488, 43070, 806, 51282, 51220, 849, 56626, 45583, 919, 62170, 50141, 899, 61455, 50387, 936, 65156, 52135, 875, 62117, 54474, 1013, 53016, 47362, 887, 61252, 56461, 835, 67066, 57759, 950, 64141, 54776, 1006, 65610, 56920, 989, 63986, 53116, 952, 58096, 57404, 952, 54298, 58172, 880, 64999, 60455, 1099, 69196, 59365, 979, 68518, 61873, 981, 68519, 62858, 953, 70067, 59101, 918, 61749, 56896, 846, 59696, 66305, 854, 66873, 64151, 1066, 75995, 56191, 1017, 76827, 59620, 1066, 76657, 64475, 1019, 78479, 64982, 943, 79461, 60422, 960, 68766, 64435, 816, 78168, 62145, 892, 82860, 67874, 913, 84156, 67491, 979, 87115, 69625, 950, 90600, 73161, 916], [7, 1, 1, 0, 1, 0, 0, 0, 0, 1, 0, 0, 2, 0, 0, 4, 1, 0, 6, 2, 0, 7, 0, 0, 0, 0, 0, 3, 0, 0, 0, 1, 0, 5, 0, 0, 1, 0, 0, 4, 0, 0, 9, 0, 0, 23, 0, 1, 25, 0, 0, 23, 0, 0, 32, 0, 0, 141, 2, 2, 93, 0, 2, 59, 8, 0, 58, 0, 1, 22, 0, 0, 51, 4, 2, 93, 1, 0, 51, 4, 3, 183, 2, 2, 166, 0, 5, 85, 1, 5, 356, 3, 4, 51, 0, 2, 17, 10, 2, 62, 11, 6, 67, 20, 4, 186, 135, 1, 110, 83, 2, 78, 141, 2, 75, 180, 0, 92, 113, 1, 128, 84, 2, 138, 49, 3, 111, 12, 1, 293, 8, 0, 190, 0, 0, 206, 201, 0, 125, 14, 2, 76, 2, 3, 223, 73, 2, 384, 89, 3, 427, 106, 0, 349, 69, 0, 206, 37, 0, 428, 74, 1, 448, 389, 1, 338, 89, 2, 224, 0, 0, 381, 49, 5, 310, 60, 0, 406, 383, 13, 359, 346, 20, 472, 187, 9, 425, 473, 8, 438, 408, 6, 422, 276, 19, 299, 283, 12, 500, 265, 6, 534, 442, 10, 571, 375, 18, 660, 330, 14, 591, 370, 23, 508, 273, 30, 635, 231, 15, 412, 183, 12, 792, 310, 15, 1024, 231, 13, 1105, 351, 82, 1163, 229, 18, 1295, 403, 57, 990, 268, 50, 1298, 497, 33, 1513, 299, 59, 1359, 356, 44, 1330, 417, 49, 1320, 349, 53, 1282, 335, 51, 1007, 358, 62, 1366, 504, 31, 1501, 384, 79, 1877, 486, 101, 2137, 667, 129, 2134, 1547, 57, 2224, 878, 56, 1647, 604, 73, 1859, 73, 437, 2414, 957, 67, 2877, 3884, 65, 3137, 2228, 66, 3630, 7725, 77, 3000, 1719, 63, 2909, 3589, 58, 3947, 2711, 68, 3788, 2124, 64, 3390, 3328, 64, 3460, 2326, 63, 2948, 2210, 66, 2889, 3306, 65, 2084, 3628, 57, 2199, 2113, 62, 2442, 1644, 61, 2373, 3015, 61, 2520, 2617, 59, 2505, 2632, 81, 2244, 3083, 63, 1379, 749, 48, 2008, 2129, 50, 2033, 3982, 48, 2187, 4027, 45, 2089, 2468, 42, 1781, 2998, 34, 1573, 2276, 37, 1246, 1344, 40, 1606, 1924, 35, 1647, 2463, 41, 1652, 1994, 58, 1462, 1608, 26, 1475, 1973, 26, 1211, 1860, 31, 954, 1784, 35, 1349, 1200, 27, 1227, 1532, 29, 1041, 1415, 26, 1025, 1866, 32, 1142, 2137, 29, 1075, 1807, 21, 613, 1497, 26, 1056, 1135, 28, 1035, 1126, 26, 1093, 1091, 29, 1195, 1206, 27, 1118, 1201, 26, 961, 1186, 15, 805, 937, 17, 674, 972, 12, 1076, 890, 11, 1299, 1008, 15, 1192, 1108, 23, 1404, 1130, 16, 1300, 1225, 13, 707, 1070, 20, 1257, 727, 8, 1113, 1021, 14, 956, 913, 14, 1192, 790, 11, 1276, 1143, 10, 652, 1310, 8, 787, 740, 18, 1374, 1146, 12, 1398, 1320, 9, 1215, 1059, 22, 1250, 1082, 13, 1412, 1230, 14, 1450, 1250, 16, 1061, 1200, 13, 1544, 1155, 17, 1693, 1154, 17, 1840, 1130, 22, 1808, 1446, 20, 1954, 1449, 15, 2024, 1249, 22, 1358, 1507, 18, 2312, 1050, 18, 2509, 1858, 19, 2737, 1528, 19, 2914, 1751, 13, 2973, 1920, 25], [14, 0, 0, 18, 0, 0, 6, 0, 0, 3, 0, 1, 3, 0, 0, 4, 0, 0, 4, 0, 0, 12, 0, 0, 10, 0, 1, 23, 0, 0, 10, 0, 0, 15, 1, 0, 3, 0, 1, 31, 18, 1, 30, 6, 2, 17, 0, 1, 17, 14, 2, 82, 0, 1, 33, 0, 3, 88, 3, 8, 64, 8, 5, 148, 2, 6, 112, 4, 13, 121, 14, 7, 150, 9, 12, 117, 38, 8, 229, 8, 25, 210, 63, 12, 187, 20, 17, 221, 9, 22, 352, 12, 11, 346, 30, 18, 236, 36, 9, 285, 5, 7, 120, 31, 7, 327, 34, 10, 552, 142, 12, 466, 65, 9, 552, 150, 19, 431, 67, 18, 778, 51, 14, 390, 117, 18, 811, 119, 22, 440, 112, 19, 522, 94, 27, 728, 106, 31, 597, 205, 32, 583, 180, 27, 1008, 106, 26, 790, 121, 36, 678, 115, 27, 1567, 350, 35, 984, 354, 34, 1233, 275, 34, 1216, 207, 43, 1089, 169, 37, 1165, 330, 48, 1943, 399, 53, 1230, 587, 36, 1026, 339, 53, 1495, 422, 54, 1602, 542, 44, 1576, 475, 49, 1606, 524, 67, 2347, 600, 63, 2005, 749, 51, 2078, 1202, 76, 2161, 679, 65, 2345, 1408, 64, 2940, 857, 63, 2608, 821, 60, 3041, 1196, 58, 2436, 1186, 60, 2091, 1168, 97, 2190, 964, 105, 2598, 698, 85, 2682, 8381, 116, 2940, 1084, 99, 2487, 1248, 89, 2358, 779, 76, 2287, 1225, 103, 2560, 996, 122, 2933, 1352, 123, 2436, 1466, 139, 2739, 2243, 120, 3007, 1924, 91, 2554, 1661, 109, 2258, 1664, 120, 3254, 1877, 149, 3607, 1562, 152, 3493, 1718, 127, 3427, 1550, 113, 3390, 1632, 120, 2786, 5071, 178, 2701, 1802, 1409, 3307, 1315, 114, 3752, 1672, 100, 3827, 1935, 142, 3874, 1380, 91, 3870, 1591, 186, 3721, 1962, 113, 3214, 1925, 248, 3889, 4161, 208, 4842, 3661, 192, 5024, 2362, 175, 6368, 4430, 167, 5493, 2330, 156, 5257, 2385, 181, 4878, 1951, 245, 5537, 2243, 198, 6328, 8018, 125, 6364, 3515, 198, 7074, 3395, 295, 6555, 3658, 151, 5368, 3522, 204, 5134, 3296, 224, 6603, 4634, 198, 6875, 4067, 219, 7862, 5366, 226, 8139, 4360, 223, 7827, 3340, 173, 6497, 4182, 193, 6741, 4500, 213, 7975, 3606, 233, 8641, 5527, 266, 8308, 2217, 258, 8348, 5306, 144, 9518, 3906, 258, 8240, 5460, 176, 8336, 7188, 246, 10576, 5552, 280, 9895, 6484, 298, 9615, 5714, 278, 9251, 7227, 257, 9431, 6044, 267, 7924, 8706, 227, 7717, 10333, 282, 9211, 7478, 298, 11147, 8860, 266, 10320, 7543, 265, 9601, 10725, 322, 9509, 9926, 260, 8968, 10221, 266, 7760, 12326, 300, 10309, 6165, 334, 11514, 10854, 316, 10483, 10906, 300, 12822, 11081, 275, 12248, 13348, 390, 9181, 6711, 293, 11088, 10014, 256, 12712, 13408, 344, 11813, 9115, 413, 12608, 10484, 364, 12020, 6844, 322, 11111, 8837, 288, 8493, 11391, 228, 11119, 9356, 422, 13165, 9011, 346, 14647, 12243, 326, 14161, 11749, 339, 14492, 9241, 297, 10441, 8157, 258, 11015, 14219, 212, 10425, 12300, 329, 14888, 7637, 295, 14857, 9136, 355, 14427, 11607, 331, 16286, 11541, 328, 16408, 7690, 296, 11852, 11158, 184, 15765, 10978, 320, 17433, 13959, 292, 18105, 13988, 391, 19218, 13289, 378, 20800, 10801, 312]]}],\n",
       "                        {\"legend\": {\"bgcolor\": \"#F5F6F9\", \"font\": {\"color\": \"#4D5663\"}}, \"paper_bgcolor\": \"#F5F6F9\", \"plot_bgcolor\": \"#F5F6F9\", \"template\": {\"data\": {\"bar\": [{\"error_x\": {\"color\": \"#2a3f5f\"}, \"error_y\": {\"color\": \"#2a3f5f\"}, \"marker\": {\"line\": {\"color\": \"#E5ECF6\", \"width\": 0.5}}, \"type\": \"bar\"}], \"barpolar\": [{\"marker\": {\"line\": {\"color\": \"#E5ECF6\", \"width\": 0.5}}, \"type\": \"barpolar\"}], \"carpet\": [{\"aaxis\": {\"endlinecolor\": \"#2a3f5f\", \"gridcolor\": \"white\", \"linecolor\": \"white\", \"minorgridcolor\": \"white\", \"startlinecolor\": \"#2a3f5f\"}, \"baxis\": {\"endlinecolor\": \"#2a3f5f\", \"gridcolor\": \"white\", \"linecolor\": \"white\", \"minorgridcolor\": \"white\", \"startlinecolor\": \"#2a3f5f\"}, \"type\": \"carpet\"}], \"choropleth\": [{\"colorbar\": {\"outlinewidth\": 0, \"ticks\": \"\"}, \"type\": \"choropleth\"}], \"contour\": [{\"colorbar\": {\"outlinewidth\": 0, \"ticks\": \"\"}, \"colorscale\": [[0.0, \"#0d0887\"], [0.1111111111111111, \"#46039f\"], [0.2222222222222222, \"#7201a8\"], [0.3333333333333333, \"#9c179e\"], [0.4444444444444444, \"#bd3786\"], [0.5555555555555556, \"#d8576b\"], [0.6666666666666666, \"#ed7953\"], [0.7777777777777778, \"#fb9f3a\"], [0.8888888888888888, \"#fdca26\"], [1.0, \"#f0f921\"]], \"type\": \"contour\"}], \"contourcarpet\": [{\"colorbar\": {\"outlinewidth\": 0, \"ticks\": \"\"}, \"type\": \"contourcarpet\"}], \"heatmap\": [{\"colorbar\": {\"outlinewidth\": 0, \"ticks\": \"\"}, \"colorscale\": [[0.0, \"#0d0887\"], [0.1111111111111111, \"#46039f\"], [0.2222222222222222, \"#7201a8\"], [0.3333333333333333, \"#9c179e\"], [0.4444444444444444, \"#bd3786\"], [0.5555555555555556, \"#d8576b\"], [0.6666666666666666, \"#ed7953\"], [0.7777777777777778, \"#fb9f3a\"], [0.8888888888888888, \"#fdca26\"], [1.0, \"#f0f921\"]], \"type\": \"heatmap\"}], \"heatmapgl\": [{\"colorbar\": {\"outlinewidth\": 0, \"ticks\": \"\"}, \"colorscale\": [[0.0, \"#0d0887\"], [0.1111111111111111, \"#46039f\"], [0.2222222222222222, \"#7201a8\"], [0.3333333333333333, \"#9c179e\"], [0.4444444444444444, \"#bd3786\"], [0.5555555555555556, \"#d8576b\"], [0.6666666666666666, \"#ed7953\"], [0.7777777777777778, \"#fb9f3a\"], [0.8888888888888888, \"#fdca26\"], [1.0, \"#f0f921\"]], \"type\": \"heatmapgl\"}], \"histogram\": [{\"marker\": {\"colorbar\": {\"outlinewidth\": 0, \"ticks\": \"\"}}, \"type\": \"histogram\"}], \"histogram2d\": [{\"colorbar\": {\"outlinewidth\": 0, \"ticks\": \"\"}, \"colorscale\": [[0.0, \"#0d0887\"], [0.1111111111111111, \"#46039f\"], [0.2222222222222222, \"#7201a8\"], [0.3333333333333333, \"#9c179e\"], [0.4444444444444444, \"#bd3786\"], [0.5555555555555556, \"#d8576b\"], [0.6666666666666666, \"#ed7953\"], [0.7777777777777778, \"#fb9f3a\"], [0.8888888888888888, \"#fdca26\"], [1.0, \"#f0f921\"]], \"type\": \"histogram2d\"}], \"histogram2dcontour\": [{\"colorbar\": {\"outlinewidth\": 0, \"ticks\": \"\"}, \"colorscale\": [[0.0, \"#0d0887\"], [0.1111111111111111, \"#46039f\"], [0.2222222222222222, \"#7201a8\"], [0.3333333333333333, \"#9c179e\"], [0.4444444444444444, \"#bd3786\"], [0.5555555555555556, \"#d8576b\"], [0.6666666666666666, \"#ed7953\"], [0.7777777777777778, \"#fb9f3a\"], [0.8888888888888888, \"#fdca26\"], [1.0, \"#f0f921\"]], \"type\": \"histogram2dcontour\"}], \"mesh3d\": [{\"colorbar\": {\"outlinewidth\": 0, \"ticks\": \"\"}, \"type\": \"mesh3d\"}], \"parcoords\": [{\"line\": {\"colorbar\": {\"outlinewidth\": 0, \"ticks\": \"\"}}, \"type\": \"parcoords\"}], \"pie\": [{\"automargin\": true, \"type\": \"pie\"}], \"scatter\": [{\"marker\": {\"colorbar\": {\"outlinewidth\": 0, \"ticks\": \"\"}}, \"type\": \"scatter\"}], \"scatter3d\": [{\"line\": {\"colorbar\": {\"outlinewidth\": 0, \"ticks\": \"\"}}, \"marker\": {\"colorbar\": {\"outlinewidth\": 0, \"ticks\": \"\"}}, \"type\": \"scatter3d\"}], \"scattercarpet\": [{\"marker\": {\"colorbar\": {\"outlinewidth\": 0, \"ticks\": \"\"}}, \"type\": \"scattercarpet\"}], \"scattergeo\": [{\"marker\": {\"colorbar\": {\"outlinewidth\": 0, \"ticks\": \"\"}}, \"type\": \"scattergeo\"}], \"scattergl\": [{\"marker\": {\"colorbar\": {\"outlinewidth\": 0, \"ticks\": \"\"}}, \"type\": \"scattergl\"}], \"scattermapbox\": [{\"marker\": {\"colorbar\": {\"outlinewidth\": 0, \"ticks\": \"\"}}, \"type\": \"scattermapbox\"}], \"scatterpolar\": [{\"marker\": {\"colorbar\": {\"outlinewidth\": 0, \"ticks\": \"\"}}, \"type\": \"scatterpolar\"}], \"scatterpolargl\": [{\"marker\": {\"colorbar\": {\"outlinewidth\": 0, \"ticks\": \"\"}}, \"type\": \"scatterpolargl\"}], \"scatterternary\": [{\"marker\": {\"colorbar\": {\"outlinewidth\": 0, \"ticks\": \"\"}}, \"type\": \"scatterternary\"}], \"surface\": [{\"colorbar\": {\"outlinewidth\": 0, \"ticks\": \"\"}, \"colorscale\": [[0.0, \"#0d0887\"], [0.1111111111111111, \"#46039f\"], [0.2222222222222222, \"#7201a8\"], [0.3333333333333333, \"#9c179e\"], [0.4444444444444444, \"#bd3786\"], [0.5555555555555556, \"#d8576b\"], [0.6666666666666666, \"#ed7953\"], [0.7777777777777778, \"#fb9f3a\"], [0.8888888888888888, \"#fdca26\"], [1.0, \"#f0f921\"]], \"type\": \"surface\"}], \"table\": [{\"cells\": {\"fill\": {\"color\": \"#EBF0F8\"}, \"line\": {\"color\": \"white\"}}, \"header\": {\"fill\": {\"color\": \"#C8D4E3\"}, \"line\": {\"color\": \"white\"}}, \"type\": \"table\"}]}, \"layout\": {\"annotationdefaults\": {\"arrowcolor\": \"#2a3f5f\", \"arrowhead\": 0, \"arrowwidth\": 1}, \"coloraxis\": {\"colorbar\": {\"outlinewidth\": 0, \"ticks\": \"\"}}, \"colorscale\": {\"diverging\": [[0, \"#8e0152\"], [0.1, \"#c51b7d\"], [0.2, \"#de77ae\"], [0.3, \"#f1b6da\"], [0.4, \"#fde0ef\"], [0.5, \"#f7f7f7\"], [0.6, \"#e6f5d0\"], [0.7, \"#b8e186\"], [0.8, \"#7fbc41\"], [0.9, \"#4d9221\"], [1, \"#276419\"]], \"sequential\": [[0.0, \"#0d0887\"], [0.1111111111111111, \"#46039f\"], [0.2222222222222222, \"#7201a8\"], [0.3333333333333333, \"#9c179e\"], [0.4444444444444444, \"#bd3786\"], [0.5555555555555556, \"#d8576b\"], [0.6666666666666666, \"#ed7953\"], [0.7777777777777778, \"#fb9f3a\"], [0.8888888888888888, \"#fdca26\"], [1.0, \"#f0f921\"]], \"sequentialminus\": [[0.0, \"#0d0887\"], [0.1111111111111111, \"#46039f\"], [0.2222222222222222, \"#7201a8\"], [0.3333333333333333, \"#9c179e\"], [0.4444444444444444, \"#bd3786\"], [0.5555555555555556, \"#d8576b\"], [0.6666666666666666, \"#ed7953\"], [0.7777777777777778, \"#fb9f3a\"], [0.8888888888888888, \"#fdca26\"], [1.0, \"#f0f921\"]]}, \"colorway\": [\"#636efa\", \"#EF553B\", \"#00cc96\", \"#ab63fa\", \"#FFA15A\", \"#19d3f3\", \"#FF6692\", \"#B6E880\", \"#FF97FF\", \"#FECB52\"], \"font\": {\"color\": \"#2a3f5f\"}, \"geo\": {\"bgcolor\": \"white\", \"lakecolor\": \"white\", \"landcolor\": \"#E5ECF6\", \"showlakes\": true, \"showland\": true, \"subunitcolor\": \"white\"}, \"hoverlabel\": {\"align\": \"left\"}, \"hovermode\": \"closest\", \"mapbox\": {\"style\": \"light\"}, \"paper_bgcolor\": \"white\", \"plot_bgcolor\": \"#E5ECF6\", \"polar\": {\"angularaxis\": {\"gridcolor\": \"white\", \"linecolor\": \"white\", \"ticks\": \"\"}, \"bgcolor\": \"#E5ECF6\", \"radialaxis\": {\"gridcolor\": \"white\", \"linecolor\": \"white\", \"ticks\": \"\"}}, \"scene\": {\"xaxis\": {\"backgroundcolor\": \"#E5ECF6\", \"gridcolor\": \"white\", \"gridwidth\": 2, \"linecolor\": \"white\", \"showbackground\": true, \"ticks\": \"\", \"zerolinecolor\": \"white\"}, \"yaxis\": {\"backgroundcolor\": \"#E5ECF6\", \"gridcolor\": \"white\", \"gridwidth\": 2, \"linecolor\": \"white\", \"showbackground\": true, \"ticks\": \"\", \"zerolinecolor\": \"white\"}, \"zaxis\": {\"backgroundcolor\": \"#E5ECF6\", \"gridcolor\": \"white\", \"gridwidth\": 2, \"linecolor\": \"white\", \"showbackground\": true, \"ticks\": \"\", \"zerolinecolor\": \"white\"}}, \"shapedefaults\": {\"line\": {\"color\": \"#2a3f5f\"}}, \"ternary\": {\"aaxis\": {\"gridcolor\": \"white\", \"linecolor\": \"white\", \"ticks\": \"\"}, \"baxis\": {\"gridcolor\": \"white\", \"linecolor\": \"white\", \"ticks\": \"\"}, \"bgcolor\": \"#E5ECF6\", \"caxis\": {\"gridcolor\": \"white\", \"linecolor\": \"white\", \"ticks\": \"\"}}, \"title\": {\"x\": 0.05}, \"xaxis\": {\"automargin\": true, \"gridcolor\": \"white\", \"linecolor\": \"white\", \"ticks\": \"\", \"title\": {\"standoff\": 15}, \"zerolinecolor\": \"white\", \"zerolinewidth\": 2}, \"yaxis\": {\"automargin\": true, \"gridcolor\": \"white\", \"linecolor\": \"white\", \"ticks\": \"\", \"title\": {\"standoff\": 15}, \"zerolinecolor\": \"white\", \"zerolinewidth\": 2}}}, \"title\": {\"font\": {\"color\": \"#4D5663\"}}, \"xaxis\": {\"gridcolor\": \"#E1E5ED\", \"showgrid\": true, \"tickfont\": {\"color\": \"#4D5663\"}, \"title\": {\"font\": {\"color\": \"#4D5663\"}, \"text\": \"\"}, \"zerolinecolor\": \"#E1E5ED\"}, \"yaxis\": {\"gridcolor\": \"#E1E5ED\", \"showgrid\": true, \"tickfont\": {\"color\": \"#4D5663\"}, \"title\": {\"font\": {\"color\": \"#4D5663\"}, \"text\": \"\"}, \"zerolinecolor\": \"#E1E5ED\"}},\n",
       "                        {\"showLink\": true, \"linkText\": \"Export to plot.ly\", \"plotlyServerURL\": \"https://plot.ly\", \"responsive\": true}\n",
       "                    ).then(function(){\n",
       "                            \n",
       "var gd = document.getElementById('67fc7ab8-6b68-4b97-a199-c17f386f5116');\n",
       "var x = new MutationObserver(function (mutations, observer) {{\n",
       "        var display = window.getComputedStyle(gd).display;\n",
       "        if (!display || display === 'none') {{\n",
       "            console.log([gd, 'removed!']);\n",
       "            Plotly.purge(gd);\n",
       "            observer.disconnect();\n",
       "        }}\n",
       "}});\n",
       "\n",
       "// Listen for the removal of the full notebook cells\n",
       "var notebookContainer = gd.closest('#notebook-container');\n",
       "if (notebookContainer) {{\n",
       "    x.observe(notebookContainer, {childList: true});\n",
       "}}\n",
       "\n",
       "// Listen for the clearing of the current output cell\n",
       "var outputEl = gd.closest('.output');\n",
       "if (outputEl) {{\n",
       "    x.observe(outputEl, {childList: true});\n",
       "}}\n",
       "\n",
       "                        })\n",
       "                };\n",
       "                });\n",
       "            </script>\n",
       "        </div>"
      ]
     },
     "metadata": {},
     "output_type": "display_data"
    }
   ],
   "source": [
    "df[['TT','DL','MH']].iplot(kind='surface')"
   ]
  },
  {
   "cell_type": "code",
   "execution_count": 18,
   "metadata": {},
   "outputs": [
    {
     "data": {
      "image/png": "[encoded data removed]",
      "text/plain": [
       "<Figure size 432x288 with 1 Axes>"
      ]
     },
     "metadata": {
      "needs_background": "light"
     },
     "output_type": "display_data"
    }
   ],
   "source": [
    "sns.barplot(x='Status',y='TT',data=df)\n",
    "plt.show()"
   ]
  },
  {
   "cell_type": "code",
   "execution_count": 19,
   "metadata": {},
   "outputs": [
    {
     "data": {
      "image/png": "[encoded data removed]",
      "text/plain": [
       "<Figure size 432x288 with 1 Axes>"
      ]
     },
     "metadata": {
      "needs_background": "light"
     },
     "output_type": "display_data"
    }
   ],
   "source": [
    "sns.countplot(x='Status',data=df)\n",
    "plt.show()"
   ]
  },
  {
   "cell_type": "code",
   "execution_count": 20,
   "metadata": {},
   "outputs": [
    {
     "data": {
      "text/html": [
       "<div>\n",
       "<style scoped>\n",
       "    .dataframe tbody tr th:only-of-type {\n",
       "        vertical-align: middle;\n",
       "    }\n",
       "\n",
       "    .dataframe tbody tr th {\n",
       "        vertical-align: top;\n",
       "    }\n",
       "\n",
       "    .dataframe thead th {\n",
       "        text-align: right;\n",
       "    }\n",
       "</style>\n",
       "<table border=\"1\" class=\"dataframe\">\n",
       "  <thead>\n",
       "    <tr style=\"text-align: right;\">\n",
       "      <th></th>\n",
       "      <th>Status</th>\n",
       "      <th>DL</th>\n",
       "    </tr>\n",
       "  </thead>\n",
       "  <tbody>\n",
       "    <tr>\n",
       "      <th>0</th>\n",
       "      <td>Confirmed</td>\n",
       "      <td>7</td>\n",
       "    </tr>\n",
       "    <tr>\n",
       "      <th>1</th>\n",
       "      <td>Recovered</td>\n",
       "      <td>1</td>\n",
       "    </tr>\n",
       "    <tr>\n",
       "      <th>2</th>\n",
       "      <td>Deceased</td>\n",
       "      <td>1</td>\n",
       "    </tr>\n",
       "    <tr>\n",
       "      <th>3</th>\n",
       "      <td>Confirmed</td>\n",
       "      <td>0</td>\n",
       "    </tr>\n",
       "    <tr>\n",
       "      <th>4</th>\n",
       "      <td>Recovered</td>\n",
       "      <td>1</td>\n",
       "    </tr>\n",
       "    <tr>\n",
       "      <th>...</th>\n",
       "      <td>...</td>\n",
       "      <td>...</td>\n",
       "    </tr>\n",
       "    <tr>\n",
       "      <th>523</th>\n",
       "      <td>Recovered</td>\n",
       "      <td>1751</td>\n",
       "    </tr>\n",
       "    <tr>\n",
       "      <th>524</th>\n",
       "      <td>Deceased</td>\n",
       "      <td>13</td>\n",
       "    </tr>\n",
       "    <tr>\n",
       "      <th>525</th>\n",
       "      <td>Confirmed</td>\n",
       "      <td>2973</td>\n",
       "    </tr>\n",
       "    <tr>\n",
       "      <th>526</th>\n",
       "      <td>Recovered</td>\n",
       "      <td>1920</td>\n",
       "    </tr>\n",
       "    <tr>\n",
       "      <th>527</th>\n",
       "      <td>Deceased</td>\n",
       "      <td>25</td>\n",
       "    </tr>\n",
       "  </tbody>\n",
       "</table>\n",
       "<p>528 rows × 2 columns</p>\n",
       "</div>"
      ],
      "text/plain": [
       "        Status    DL\n",
       "0    Confirmed     7\n",
       "1    Recovered     1\n",
       "2     Deceased     1\n",
       "3    Confirmed     0\n",
       "4    Recovered     1\n",
       "..         ...   ...\n",
       "523  Recovered  1751\n",
       "524   Deceased    13\n",
       "525  Confirmed  2973\n",
       "526  Recovered  1920\n",
       "527   Deceased    25\n",
       "\n",
       "[528 rows x 2 columns]"
      ]
     },
     "execution_count": 20,
     "metadata": {},
     "output_type": "execute_result"
    }
   ],
   "source": [
    "# creating delhi dataset for analysis\n",
    "df_status=df[['Status','DL']]\n",
    "df_status=pd.DataFrame(df_status)\n",
    "df_status"
   ]
  },
  {
   "cell_type": "code",
   "execution_count": 21,
   "metadata": {},
   "outputs": [
    {
     "data": {
      "text/html": [
       "<div>\n",
       "<style scoped>\n",
       "    .dataframe tbody tr th:only-of-type {\n",
       "        vertical-align: middle;\n",
       "    }\n",
       "\n",
       "    .dataframe tbody tr th {\n",
       "        vertical-align: top;\n",
       "    }\n",
       "\n",
       "    .dataframe thead th {\n",
       "        text-align: right;\n",
       "    }\n",
       "</style>\n",
       "<table border=\"1\" class=\"dataframe\">\n",
       "  <thead>\n",
       "    <tr style=\"text-align: right;\">\n",
       "      <th></th>\n",
       "      <th>DL</th>\n",
       "      <th>Status_Confirmed</th>\n",
       "      <th>Status_Deceased</th>\n",
       "      <th>Status_Recovered</th>\n",
       "    </tr>\n",
       "  </thead>\n",
       "  <tbody>\n",
       "    <tr>\n",
       "      <th>0</th>\n",
       "      <td>7</td>\n",
       "      <td>1</td>\n",
       "      <td>0</td>\n",
       "      <td>0</td>\n",
       "    </tr>\n",
       "    <tr>\n",
       "      <th>1</th>\n",
       "      <td>1</td>\n",
       "      <td>0</td>\n",
       "      <td>0</td>\n",
       "      <td>1</td>\n",
       "    </tr>\n",
       "    <tr>\n",
       "      <th>2</th>\n",
       "      <td>1</td>\n",
       "      <td>0</td>\n",
       "      <td>1</td>\n",
       "      <td>0</td>\n",
       "    </tr>\n",
       "    <tr>\n",
       "      <th>3</th>\n",
       "      <td>0</td>\n",
       "      <td>1</td>\n",
       "      <td>0</td>\n",
       "      <td>0</td>\n",
       "    </tr>\n",
       "    <tr>\n",
       "      <th>4</th>\n",
       "      <td>1</td>\n",
       "      <td>0</td>\n",
       "      <td>0</td>\n",
       "      <td>1</td>\n",
       "    </tr>\n",
       "    <tr>\n",
       "      <th>...</th>\n",
       "      <td>...</td>\n",
       "      <td>...</td>\n",
       "      <td>...</td>\n",
       "      <td>...</td>\n",
       "    </tr>\n",
       "    <tr>\n",
       "      <th>523</th>\n",
       "      <td>1751</td>\n",
       "      <td>0</td>\n",
       "      <td>0</td>\n",
       "      <td>1</td>\n",
       "    </tr>\n",
       "    <tr>\n",
       "      <th>524</th>\n",
       "      <td>13</td>\n",
       "      <td>0</td>\n",
       "      <td>1</td>\n",
       "      <td>0</td>\n",
       "    </tr>\n",
       "    <tr>\n",
       "      <th>525</th>\n",
       "      <td>2973</td>\n",
       "      <td>1</td>\n",
       "      <td>0</td>\n",
       "      <td>0</td>\n",
       "    </tr>\n",
       "    <tr>\n",
       "      <th>526</th>\n",
       "      <td>1920</td>\n",
       "      <td>0</td>\n",
       "      <td>0</td>\n",
       "      <td>1</td>\n",
       "    </tr>\n",
       "    <tr>\n",
       "      <th>527</th>\n",
       "      <td>25</td>\n",
       "      <td>0</td>\n",
       "      <td>1</td>\n",
       "      <td>0</td>\n",
       "    </tr>\n",
       "  </tbody>\n",
       "</table>\n",
       "<p>528 rows × 4 columns</p>\n",
       "</div>"
      ],
      "text/plain": [
       "       DL  Status_Confirmed  Status_Deceased  Status_Recovered\n",
       "0       7                 1                0                 0\n",
       "1       1                 0                0                 1\n",
       "2       1                 0                1                 0\n",
       "3       0                 1                0                 0\n",
       "4       1                 0                0                 1\n",
       "..    ...               ...              ...               ...\n",
       "523  1751                 0                0                 1\n",
       "524    13                 0                1                 0\n",
       "525  2973                 1                0                 0\n",
       "526  1920                 0                0                 1\n",
       "527    25                 0                1                 0\n",
       "\n",
       "[528 rows x 4 columns]"
      ]
     },
     "execution_count": 21,
     "metadata": {},
     "output_type": "execute_result"
    }
   ],
   "source": [
    "#converting categorical data to numerical data\n",
    "df1=pd.get_dummies(df_status)\n",
    "df1"
   ]
  },
  {
   "cell_type": "markdown",
   "metadata": {},
   "source": [
    "# <h1>1 .Applying linear Regression on Delhi and no of confirmed cases<h1>"
   ]
  },
  {
   "cell_type": "code",
   "execution_count": 22,
   "metadata": {},
   "outputs": [
    {
     "data": {
      "text/plain": [
       "array([1.42922544e-04, 2.36829217e-01])"
      ]
     },
     "execution_count": 22,
     "metadata": {},
     "output_type": "execute_result"
    }
   ],
   "source": [
    "#applying linear regression without using sklearn library\n",
    "x=df1.iloc[:,0].values\n",
    "y=df1.iloc[:,1].values\n",
    "model_con=np.polyfit(x,y,1)\n",
    "model_con"
   ]
  },
  {
   "cell_type": "code",
   "execution_count": 23,
   "metadata": {},
   "outputs": [
    {
     "data": {
      "text/plain": [
       "(('Slope:', 0.000142922544), ('intercept:', 0.236829217))"
      ]
     },
     "execution_count": 23,
     "metadata": {},
     "output_type": "execute_result"
    }
   ],
   "source": [
    "#slope and intercept\n",
    "slope=('Slope:',1.42922544e-04)\n",
    "intercept =(\"intercept:\",2.36829217e-01)\n",
    "\n",
    "slope,intercept"
   ]
  },
  {
   "cell_type": "code",
   "execution_count": 24,
   "metadata": {},
   "outputs": [
    {
     "data": {
      "text/plain": [
       "0.2511214709272065"
      ]
     },
     "execution_count": 24,
     "metadata": {},
     "output_type": "execute_result"
    }
   ],
   "source": [
    "# predict the rate of confirmed cases\n",
    "predict = np.poly1d(model_con)\n",
    "DL = 100\n",
    "predict(DL)"
   ]
  },
  {
   "cell_type": "markdown",
   "metadata": {},
   "source": [
    "# <h1>2. Applying linear Regression on Delhi and no of deceased cases</h1>"
   ]
  },
  {
   "cell_type": "code",
   "execution_count": 25,
   "metadata": {},
   "outputs": [
    {
     "data": {
      "text/plain": [
       "array([-2.35546090e-04,  4.92378693e-01])"
      ]
     },
     "execution_count": 25,
     "metadata": {},
     "output_type": "execute_result"
    }
   ],
   "source": [
    "#applying linear regression without using sklearn library\n",
    "X=df1.iloc[:,0].values\n",
    "Y=df1.iloc[:,2].values\n",
    "model_dec=np.polyfit(X,Y,1)\n",
    "model_dec"
   ]
  },
  {
   "cell_type": "code",
   "execution_count": 26,
   "metadata": {},
   "outputs": [
    {
     "data": {
      "text/plain": [
       "(('Slope:', -0.00023554609), ('intercept:', 0.492378693))"
      ]
     },
     "execution_count": 26,
     "metadata": {},
     "output_type": "execute_result"
    }
   ],
   "source": [
    "# slope and intercept\n",
    "slope=('Slope:',-2.35546090e-04)\n",
    "intercept =(\"intercept:\",4.92378693e-01)\n",
    "\n",
    "slope,intercept"
   ]
  },
  {
   "cell_type": "code",
   "execution_count": 27,
   "metadata": {},
   "outputs": [
    {
     "data": {
      "text/plain": [
       "0.46882408393668734"
      ]
     },
     "execution_count": 27,
     "metadata": {},
     "output_type": "execute_result"
    }
   ],
   "source": [
    "#predicting the rate of deceased cases\n",
    "predict = np.poly1d(model_dec)\n",
    "DL = 100\n",
    "predict(DL)"
   ]
  },
  {
   "cell_type": "markdown",
   "metadata": {},
   "source": [
    "# <h1>3. Applying linear Regression on Delhi and no of recovered cases</h1>"
   ]
  },
  {
   "cell_type": "code",
   "execution_count": 28,
   "metadata": {},
   "outputs": [
    {
     "data": {
      "text/plain": [
       "array([9.26235462e-05, 2.70792091e-01])"
      ]
     },
     "execution_count": 28,
     "metadata": {},
     "output_type": "execute_result"
    }
   ],
   "source": [
    "#applying linear regression without using sklearn library\n",
    "x=df1.iloc[:,0].values\n",
    "y=df1.iloc[:,3].values\n",
    "model_rec=np.polyfit(x,y,1)\n",
    "model_rec"
   ]
  },
  {
   "cell_type": "code",
   "execution_count": 29,
   "metadata": {},
   "outputs": [
    {
     "data": {
      "text/plain": [
       "(('Slope:', 9.26235462e-05), ('intercept:', 0.270792091))"
      ]
     },
     "execution_count": 29,
     "metadata": {},
     "output_type": "execute_result"
    }
   ],
   "source": [
    "# slope and intercept\n",
    "slope=('Slope:',9.26235462e-05)\n",
    "intercept =(\"intercept:\",2.70792091e-01)\n",
    "\n",
    "slope,intercept"
   ]
  },
  {
   "cell_type": "code",
   "execution_count": 30,
   "metadata": {},
   "outputs": [
    {
     "data": {
      "text/plain": [
       "0.28005444513610583"
      ]
     },
     "execution_count": 30,
     "metadata": {},
     "output_type": "execute_result"
    }
   ],
   "source": [
    "#predicting the rate of recovered cases\n",
    "predict = np.poly1d(model_rec)\n",
    "DL = 100\n",
    "predict(DL)"
   ]
  },
  {
   "cell_type": "markdown",
   "metadata": {},
   "source": [
    "# <h1><center>---THANK YOU---</center></h1>"
   ]
  },
  {
   "cell_type": "code",
   "execution_count": null,
   "metadata": {},
   "outputs": [],
   "source": []
  }
 ],
 "metadata": {
  "kernelspec": {
   "display_name": "Python 3",
   "language": "python",
   "name": "python3"
  },
  "language_info": {
   "codemirror_mode": {
    "name": "ipython",
    "version": 3
   },
   "file_extension": ".py",
   "mimetype": "text/x-python",
   "name": "python",
   "nbconvert_exporter": "python",
   "pygments_lexer": "ipython3",
   "version": "3.7.6"
  }
 },
 "nbformat": 4,
 "nbformat_minor": 4
}
